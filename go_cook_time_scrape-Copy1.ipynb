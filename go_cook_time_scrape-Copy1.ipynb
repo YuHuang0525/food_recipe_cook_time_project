{
 "cells": [
  {
   "cell_type": "code",
   "execution_count": 2,
   "id": "26d9c171",
   "metadata": {},
   "outputs": [],
   "source": [
    "from selenium import webdriver\n",
    "from webdriver_manager.chrome import ChromeDriverManager\n",
    "from selenium.webdriver.common.by import By\n",
    "from selenium.webdriver.support.ui import WebDriverWait\n",
    "from selenium.webdriver.support import expected_conditions as EC\n",
    "from selenium.common.exceptions import TimeoutException"
   ]
  },
  {
   "cell_type": "code",
   "execution_count": 3,
   "id": "1945e3cd",
   "metadata": {},
   "outputs": [],
   "source": [
    "from selenium.webdriver.remote.webelement import WebElement"
   ]
  },
  {
   "cell_type": "code",
   "execution_count": 4,
   "id": "821be678",
   "metadata": {},
   "outputs": [],
   "source": [
    "from selenium.webdriver.common.keys import Keys"
   ]
  },
  {
   "cell_type": "code",
   "execution_count": 5,
   "id": "63c58c7c",
   "metadata": {},
   "outputs": [],
   "source": [
    "from bs4 import BeautifulSoup"
   ]
  },
  {
   "cell_type": "code",
   "execution_count": 6,
   "id": "7d59b618",
   "metadata": {},
   "outputs": [],
   "source": [
    "import re"
   ]
  },
  {
   "cell_type": "code",
   "execution_count": 7,
   "id": "71b460a0",
   "metadata": {},
   "outputs": [],
   "source": [
    "# import PyQuery to strip html to text\n",
    "from pyquery import PyQuery as pq"
   ]
  },
  {
   "cell_type": "code",
   "execution_count": 242,
   "id": "5daf4819",
   "metadata": {
    "scrolled": false
   },
   "outputs": [
    {
     "name": "stderr",
     "output_type": "stream",
     "text": [
      "[WDM] - \n",
      "\n",
      "[WDM] - ====== WebDriver manager ======\n",
      "[WDM] - Current google-chrome version is 95.0.4638\n",
      "[WDM] - Get LATEST driver version for 95.0.4638\n",
      "[WDM] - Driver [C:\\Users\\YH\\.wdm\\drivers\\chromedriver\\win32\\95.0.4638.69\\chromedriver.exe] found in cache\n",
      "<ipython-input-242-f004ae8d437d>:1: DeprecationWarning: executable_path has been deprecated, please pass in a Service object\n",
      "  driver = webdriver.Chrome(ChromeDriverManager().install())\n"
     ]
    }
   ],
   "source": [
    "driver = webdriver.Chrome(ChromeDriverManager().install())\n",
    "wait = WebDriverWait(driver, 30)"
   ]
  },
  {
   "cell_type": "code",
   "execution_count": 3,
   "id": "05ea8567",
   "metadata": {},
   "outputs": [],
   "source": [
    "def search():\n",
    "    try:\n",
    "        driver.get('food.com')\n",
    "        # 等待搜索框加载出来\n",
    "    except TimeoutException:\n",
    "        # 如果出现超时异常，重新执行search()函数\n",
    "        return search()"
   ]
  },
  {
   "cell_type": "code",
   "execution_count": 9,
   "id": "adc7e164",
   "metadata": {},
   "outputs": [],
   "source": [
    "import gzip"
   ]
  },
  {
   "cell_type": "code",
   "execution_count": 10,
   "id": "1b5e75e3",
   "metadata": {},
   "outputs": [],
   "source": [
    "def readGz(path):\n",
    "    for l in gzip.open(path, 'rt',encoding='utf-8'):\n",
    "        yield eval(l)"
   ]
  },
  {
   "cell_type": "code",
   "execution_count": 11,
   "id": "b7e3c748",
   "metadata": {},
   "outputs": [],
   "source": [
    "test_recipes = []\n",
    "for d in readGz(\"testRecipes.json.gz\"):\n",
    "    test_recipes.append(d)"
   ]
  },
  {
   "cell_type": "code",
   "execution_count": 12,
   "id": "2d852cc6",
   "metadata": {},
   "outputs": [],
   "source": [
    "test_recipes_name = []\n",
    "for x in test_recipes:\n",
    "    test_recipes_name.append(x['name'])"
   ]
  },
  {
   "cell_type": "code",
   "execution_count": 13,
   "id": "83613335",
   "metadata": {},
   "outputs": [
    {
     "data": {
      "text/plain": [
       "'easter egg spread'"
      ]
     },
     "execution_count": 13,
     "metadata": {},
     "output_type": "execute_result"
    }
   ],
   "source": [
    "test_recipes_name[100]"
   ]
  },
  {
   "cell_type": "code",
   "execution_count": 14,
   "id": "b2b31c75",
   "metadata": {},
   "outputs": [],
   "source": [
    "test_recipes_name_id = dict()\n",
    "for r in test_recipes:\n",
    "    test_recipes_name_id[r['name']] = r['recipe_id']"
   ]
  },
  {
   "cell_type": "code",
   "execution_count": 33,
   "id": "7419ef33",
   "metadata": {},
   "outputs": [],
   "source": [
    "ambiguous_recipe = []"
   ]
  },
  {
   "cell_type": "code",
   "execution_count": null,
   "id": "aeddb633",
   "metadata": {},
   "outputs": [],
   "source": []
  },
  {
   "cell_type": "code",
   "execution_count": 101,
   "id": "cd5a59c8",
   "metadata": {},
   "outputs": [],
   "source": [
    "def search_recipe(temp_r_name):\n",
    "    \n",
    "    try:\n",
    "        submit = wait.until(\n",
    "            EC.element_to_be_clickable((By.CSS_SELECTOR, 'body > div.fd-site > div.fd-site-wrapper > section.gk-header-wrap.Food\\.com > header > div > div > div > nav:nth-child(2) > ul > li.v-nav-toggle.has-icon.gk-nav__search > a > i'))\n",
    "        )\n",
    "        submit.click()\n",
    "        \n",
    "        # input the search recipe\n",
    "        # 找text box需要通过id去找 注意！！！\n",
    "        inputElement = driver.find_element_by_id(\"search-input\")\n",
    "        inputElement.send_keys(temp_r_name)\n",
    "        \n",
    "        # hit enter after inputting the text\n",
    "        inputElement.send_keys(Keys.RETURN)\n",
    "        \n",
    "        \n",
    "    except:\n",
    "        print(1)\n",
    "        "
   ]
  },
  {
   "cell_type": "code",
   "execution_count": 35,
   "id": "46835481",
   "metadata": {},
   "outputs": [],
   "source": [
    "def get_minutes(temp_r_name):\n",
    "    try :\n",
    "        driver.implicitly_wait(1)\n",
    "        driver.find_element_by_css_selector('#gk-menu-search > div.fd-menu-inner > div.search-module-results.on > header > div > h3')\n",
    "        ambiguous_recipe.append(temp_r_name)\n",
    "    except:\n",
    "        # make sure the driver wait for the whole page to be loaded\n",
    "        driver.implicitly_wait(2)\n",
    "        # 注意下面这一行代码，如果没有上面那一行代码去设置等待时间，可能会报错，因为提取的太快了，需要等待全部load\n",
    "        e = driver.find_element_by_css_selector('#gk-menu-search > div.fd-menu-inner > div.search-module-results.on > div > div > div > div > div.tile-content > div > div > div.meta-data > div.cook-time')\n",
    "        # get the entire thing of the corresponding div class\n",
    "        temp = e.get_attribute('outerHTML')\n",
    "        # using regular expression to find the text in between\n",
    "        time = re.findall('[0-9]+[\\s\\.]*[0-9]*\\s+[hm]*', temp)[0].strip()\n",
    "        temp_r_id = test_recipes_name_id[temp_r_name]\n",
    "        minutes[temp_r_id] = time"
   ]
  },
  {
   "cell_type": "code",
   "execution_count": null,
   "id": "f5889d1a",
   "metadata": {},
   "outputs": [],
   "source": []
  },
  {
   "cell_type": "code",
   "execution_count": 36,
   "id": "db434c84",
   "metadata": {},
   "outputs": [],
   "source": [
    "cnt = 0"
   ]
  },
  {
   "cell_type": "code",
   "execution_count": 47,
   "id": "825ed236",
   "metadata": {},
   "outputs": [
    {
     "data": {
      "text/plain": [
       "75"
      ]
     },
     "execution_count": 47,
     "metadata": {},
     "output_type": "execute_result"
    }
   ],
   "source": [
    "len(minutes)"
   ]
  },
  {
   "cell_type": "code",
   "execution_count": 48,
   "id": "96ea8327",
   "metadata": {},
   "outputs": [],
   "source": [
    "final_minutes = minutes.copy()"
   ]
  },
  {
   "cell_type": "code",
   "execution_count": 45,
   "id": "37745b6d",
   "metadata": {
    "scrolled": true
   },
   "outputs": [
    {
     "data": {
      "text/plain": [
       "'cornmeal fish sticks kid friendly'"
      ]
     },
     "execution_count": 45,
     "metadata": {},
     "output_type": "execute_result"
    }
   ],
   "source": [
    "test_recipes_name[41]"
   ]
  },
  {
   "cell_type": "code",
   "execution_count": 51,
   "id": "f13bd442",
   "metadata": {
    "scrolled": true
   },
   "outputs": [
    {
     "data": {
      "text/plain": [
       "97"
      ]
     },
     "execution_count": 51,
     "metadata": {},
     "output_type": "execute_result"
    }
   ],
   "source": [
    "cnt"
   ]
  },
  {
   "cell_type": "markdown",
   "id": "d306d327",
   "metadata": {},
   "source": [
    "3500 - 4000 这个范围可能需要再重新loop一次"
   ]
  },
  {
   "cell_type": "code",
   "execution_count": 87,
   "id": "14168e26",
   "metadata": {},
   "outputs": [
    {
     "data": {
      "text/plain": [
       "'bread machine whole grain bread'"
      ]
     },
     "execution_count": 87,
     "metadata": {},
     "output_type": "execute_result"
    }
   ],
   "source": [
    "test_recipes_name[3500]"
   ]
  },
  {
   "cell_type": "code",
   "execution_count": null,
   "id": "b7c0f858",
   "metadata": {},
   "outputs": [],
   "source": []
  },
  {
   "cell_type": "code",
   "execution_count": 134,
   "id": "1c075fc8",
   "metadata": {
    "scrolled": false
   },
   "outputs": [
    {
     "name": "stderr",
     "output_type": "stream",
     "text": [
      "<ipython-input-101-e08244d68d36>:11: DeprecationWarning: find_element_by_* commands are deprecated. Please use find_element() instead\n",
      "  inputElement = driver.find_element_by_id(\"search-input\")\n",
      "<ipython-input-35-d3b1c26dd64d>:4: DeprecationWarning: find_element_by_* commands are deprecated. Please use find_element() instead\n",
      "  driver.find_element_by_css_selector('#gk-menu-search > div.fd-menu-inner > div.search-module-results.on > header > div > h3')\n",
      "<ipython-input-35-d3b1c26dd64d>:10: DeprecationWarning: find_element_by_* commands are deprecated. Please use find_element() instead\n",
      "  e = driver.find_element_by_css_selector('#gk-menu-search > div.fd-menu-inner > div.search-module-results.on > div > div > div > div > div.tile-content > div > div > div.meta-data > div.cook-time')\n"
     ]
    }
   ],
   "source": [
    "for r in test_recipes_name[5500:5700]:\n",
    "    try:\n",
    "        search_recipe(r)\n",
    "        get_minutes(r)\n",
    "        cnt += 1\n",
    "    except:\n",
    "        if r in ambiguous_recipe:\n",
    "            continue\n",
    "        else:\n",
    "            ambiguous_recipe.append(r)\n",
    "            continue"
   ]
  },
  {
   "cell_type": "code",
   "execution_count": 135,
   "id": "0838f254",
   "metadata": {},
   "outputs": [
    {
     "data": {
      "text/plain": [
       "4216"
      ]
     },
     "execution_count": 135,
     "metadata": {},
     "output_type": "execute_result"
    }
   ],
   "source": [
    "len(set(minutes.keys()))"
   ]
  },
  {
   "cell_type": "code",
   "execution_count": 136,
   "id": "85770f6b",
   "metadata": {
    "scrolled": false
   },
   "outputs": [
    {
     "data": {
      "text/plain": [
       "4216"
      ]
     },
     "execution_count": 136,
     "metadata": {},
     "output_type": "execute_result"
    }
   ],
   "source": [
    "len(minutes)"
   ]
  },
  {
   "cell_type": "code",
   "execution_count": 138,
   "id": "c0c3f375",
   "metadata": {},
   "outputs": [
    {
     "data": {
      "text/plain": [
       "2269"
      ]
     },
     "execution_count": 138,
     "metadata": {},
     "output_type": "execute_result"
    }
   ],
   "source": [
    "len(set(ambiguous_recipe))"
   ]
  },
  {
   "cell_type": "code",
   "execution_count": 137,
   "id": "5e21fde1",
   "metadata": {
    "scrolled": true
   },
   "outputs": [
    {
     "name": "stdout",
     "output_type": "stream",
     "text": [
      "Stored 'minutes' (dict)\n"
     ]
    }
   ],
   "source": [
    "%store minutes"
   ]
  },
  {
   "cell_type": "code",
   "execution_count": 91,
   "id": "7e287c64",
   "metadata": {},
   "outputs": [],
   "source": [
    "%store -r minutes"
   ]
  },
  {
   "cell_type": "code",
   "execution_count": 327,
   "id": "4d11f76e",
   "metadata": {
    "scrolled": true
   },
   "outputs": [],
   "source": [
    "final_minutes = minutes.copy()"
   ]
  },
  {
   "cell_type": "code",
   "execution_count": 344,
   "id": "445e1e80",
   "metadata": {},
   "outputs": [],
   "source": [
    "final_minutes['86877533'] = '15 m'"
   ]
  },
  {
   "cell_type": "code",
   "execution_count": 263,
   "id": "c053a6b6",
   "metadata": {
    "scrolled": true
   },
   "outputs": [
    {
     "name": "stderr",
     "output_type": "stream",
     "text": [
      "<ipython-input-173-f10862dff810>:13: DeprecationWarning: find_element_by_* commands are deprecated. Please use find_element() instead\n",
      "  inputElement = driver.find_element_by_id(\"search-input\")\n",
      "<ipython-input-246-522f8bb42d4b>:5: DeprecationWarning: find_element_by_* commands are deprecated. Please use find_element() instead\n",
      "  e = driver.find_element_by_css_selector('#gk-menu-search > div.fd-menu-inner > div.search-module-results.on > div > div > div > div > div.tile-content > div > div > div.meta-data > div.cook-time')\n"
     ]
    }
   ],
   "source": [
    "def main():\n",
    "    try:\n",
    "        for r in test_recipes_name[13:]:\n",
    "            search_recipe(r)\n",
    "            get_minutes(r)\n",
    "            cnt += 1\n",
    "    except:\n",
    "        ambiguous_recipe.append(r)\n",
    "    \n",
    "if __name__ == \"__main__\":\n",
    "    main()"
   ]
  },
  {
   "cell_type": "code",
   "execution_count": 280,
   "id": "e2e42714",
   "metadata": {},
   "outputs": [
    {
     "data": {
      "text/plain": [
       "['rhubarb pie ii',\n",
       " 'ww 6 points mediterranean roast chicken',\n",
       " 'ww 6 points mediterranean roast chicken',\n",
       " 'sweet salty grilled cheese sandwich',\n",
       " 'sweet salty grilled cheese sandwich',\n",
       " 'taco pie in pie crust',\n",
       " 'beach bum smoothie from tropical smoothie cafe',\n",
       " 'prawn fettuccine in white sauce']"
      ]
     },
     "execution_count": 280,
     "metadata": {},
     "output_type": "execute_result"
    }
   ],
   "source": [
    "ambiguous_recipe"
   ]
  },
  {
   "cell_type": "code",
   "execution_count": null,
   "id": "b295f7b1",
   "metadata": {},
   "outputs": [],
   "source": []
  },
  {
   "cell_type": "code",
   "execution_count": null,
   "id": "e2f27f4d",
   "metadata": {},
   "outputs": [],
   "source": []
  },
  {
   "cell_type": "code",
   "execution_count": null,
   "id": "b2c08ba5",
   "metadata": {},
   "outputs": [],
   "source": [
    "## 可能之后会用到\n",
    "submit = wait.until(\n",
    "            EC.element_to_be_clickable((By.CSS_SELECTOR, 'body > div.fd-site > div.fd-site-wrapper > section.gk-header-wrap.Food\\.com > header > div > div > div > nav:nth-child(2) > ul > li.v-nav-toggle.has-icon.gk-nav__search > a > i'))\n",
    "        )\n",
    "        submit.click()\n",
    "        \n",
    "        # input the search recipe\n",
    "        # 找text box需要通过id去找 注意！！！\n",
    "        \n",
    "        inputElement = driver.find_element_by_id(\"search-input\")\n",
    "        t = []\n",
    "        temp_r_name_split = temp_r_name.split(' ')\n",
    "        for x in range(len(temp_r_name_split)):\n",
    "            if x == 0:\n",
    "                t.append(temp_r_name_split[x])\n",
    "                t.append('-')\n",
    "            else:\n",
    "                t.append(temp_r_name_split[x])\n",
    "        revised_r_name = ''.join(t[:3]) + ' '+ ' '.join(t[3:])\n",
    "        \n",
    "        inputElement.send_keys(revised_r_name)\n",
    "        # hit enter after inputting the text\n",
    "        inputElement.send_keys(Keys.RETURN)\n",
    "        \n",
    "        # make sure the driver wait for the whole page to be loaded\n",
    "        driver.implicitly_wait(10)\n",
    "        # 注意下面这一行代码，如果没有上面那一行代码去设置等待时间，可能会报错，因为提取的太快了，需要等待全部load\n",
    "        e = driver.find_element_by_css_selector('#gk-menu-search > div.fd-menu-inner > div.search-module-results.on > div > div > div > div > div.tile-content > div > div > div.meta-data > div.cook-time')\n",
    "        # get the entire thing of the corresponding div class\n",
    "        temp = e.get_attribute('outerHTML')\n",
    "        # using regular expression to find the text in between\n",
    "        time = re.findall('[0-9]+[\\s\\.]*[0-9]*\\s+[hm]*', temp)[0].strip()\n",
    "        temp_r_id = test_recipes_name_id[temp_r_name]\n",
    "        minutes[temp_r_id] = time"
   ]
  },
  {
   "cell_type": "code",
   "execution_count": null,
   "id": "d7f8e0a5",
   "metadata": {},
   "outputs": [],
   "source": []
  },
  {
   "cell_type": "markdown",
   "id": "8a2b3ef2",
   "metadata": {},
   "source": [
    "save the minutes_revised to a csv"
   ]
  },
  {
   "cell_type": "code",
   "execution_count": 173,
   "id": "4129a346",
   "metadata": {},
   "outputs": [
    {
     "name": "stdout",
     "output_type": "stream",
     "text": [
      "Stored 'minutes_revised' (dict)\n"
     ]
    }
   ],
   "source": [
    "%store minutes_revised"
   ]
  },
  {
   "cell_type": "code",
   "execution_count": 174,
   "id": "bcd4931f",
   "metadata": {},
   "outputs": [],
   "source": [
    "minutes_to_csv_list = []\n",
    "for x, y in minutes_revised.items():\n",
    "    minutes_to_csv_list.append([x,y])"
   ]
  },
  {
   "cell_type": "code",
   "execution_count": 170,
   "id": "0dcd1217",
   "metadata": {},
   "outputs": [],
   "source": [
    "import csv"
   ]
  },
  {
   "cell_type": "code",
   "execution_count": 198,
   "id": "d6f0e8bd",
   "metadata": {},
   "outputs": [],
   "source": [
    "actual_minutes = []"
   ]
  },
  {
   "cell_type": "code",
   "execution_count": 199,
   "id": "c8cc7733",
   "metadata": {},
   "outputs": [],
   "source": [
    "with open('actual_minutes.csv', 'r') as csvfile:\n",
    "    read = csv.reader(csvfile)\n",
    "    for row in read:\n",
    "        actual_minutes.append(row)"
   ]
  },
  {
   "cell_type": "code",
   "execution_count": 200,
   "id": "7cf656bf",
   "metadata": {},
   "outputs": [],
   "source": [
    "actual_minutes_revised = []\n",
    "for x in actual_minutes:\n",
    "    if x != []:\n",
    "        actual_minutes_revised.append(x)"
   ]
  },
  {
   "cell_type": "code",
   "execution_count": 202,
   "id": "3d5ce716",
   "metadata": {},
   "outputs": [],
   "source": [
    "actual_minutes_dict = {}\n",
    "for x in actual_minutes_revised:\n",
    "    actual_minutes_dict[x[0]] = x[1]"
   ]
  },
  {
   "cell_type": "code",
   "execution_count": null,
   "id": "cb702e50",
   "metadata": {},
   "outputs": [],
   "source": []
  },
  {
   "cell_type": "code",
   "execution_count": null,
   "id": "83fd54ed",
   "metadata": {},
   "outputs": [],
   "source": []
  },
  {
   "cell_type": "code",
   "execution_count": null,
   "id": "eee40065",
   "metadata": {},
   "outputs": [],
   "source": []
  },
  {
   "cell_type": "code",
   "execution_count": null,
   "id": "82884432",
   "metadata": {},
   "outputs": [],
   "source": []
  },
  {
   "cell_type": "code",
   "execution_count": 148,
   "id": "5782fe11",
   "metadata": {},
   "outputs": [
    {
     "name": "stdout",
     "output_type": "stream",
     "text": [
      "52197719\n",
      "89677787\n",
      "70090766\n",
      "02608051\n"
     ]
    }
   ],
   "source": [
    "minutes_revised = dict()\n",
    "for x,y in minutes.items():\n",
    "    temp = y.strip().split(' ')\n",
    "    if 'h' in temp:\n",
    "        minutes_revised[x] = float(temp[0]) * 60\n",
    "    elif 'm' in temp:\n",
    "        minutes_revised[x] = float(temp[0])\n",
    "    else:\n",
    "        print(x)"
   ]
  },
  {
   "cell_type": "code",
   "execution_count": 162,
   "id": "50111da4",
   "metadata": {
    "scrolled": true
   },
   "outputs": [
    {
     "data": {
      "text/plain": [
       "'1.2'"
      ]
     },
     "execution_count": 162,
     "metadata": {},
     "output_type": "execute_result"
    }
   ],
   "source": [
    "minutes['02608051']"
   ]
  },
  {
   "cell_type": "code",
   "execution_count": 152,
   "id": "c301e34a",
   "metadata": {},
   "outputs": [
    {
     "data": {
      "text/plain": [
       "72.0"
      ]
     },
     "execution_count": 152,
     "metadata": {},
     "output_type": "execute_result"
    }
   ],
   "source": [
    "1.2*60"
   ]
  },
  {
   "cell_type": "code",
   "execution_count": 228,
   "id": "b080220a",
   "metadata": {
    "scrolled": true
   },
   "outputs": [
    {
     "name": "stdout",
     "output_type": "stream",
     "text": [
      "crock pot yellow pea soup with chorizo ['dried split yellow peas', 'water', 'carrot', 'chicken broth', 'pepper', 'seasoning salt', 'green onion', 'potato', 'red pepper', 'canned corn niblets', 'cajun seasoning', 'chorizo sausages']\n"
     ]
    }
   ],
   "source": [
    "for r in test_recipes:\n",
    "    if r['recipe_id'] == '21702487':\n",
    "        print(r['name'],r['ingredients'])"
   ]
  },
  {
   "cell_type": "code",
   "execution_count": 229,
   "id": "592f4ceb",
   "metadata": {},
   "outputs": [
    {
     "data": {
      "text/plain": [
       "4216"
      ]
     },
     "execution_count": 229,
     "metadata": {},
     "output_type": "execute_result"
    }
   ],
   "source": [
    "len(minutes_revised.keys())"
   ]
  },
  {
   "cell_type": "code",
   "execution_count": 231,
   "id": "3be97d1c",
   "metadata": {},
   "outputs": [],
   "source": [
    "def check_recipe(temp_r_name):\n",
    "    \n",
    "    try:\n",
    "        submit = wait.until(\n",
    "            EC.element_to_be_clickable((By.CSS_SELECTOR, 'body > div.fd-site > div.fd-site-wrapper > section.gk-header-wrap.Food\\.com > header > div > div > div > nav:nth-child(2) > ul > li.v-nav-toggle.has-icon.gk-nav__search > a > i'))\n",
    "        )\n",
    "        submit.click()\n",
    "        \n",
    "        # input the search recipe\n",
    "        # 找text box需要通过id去找 注意！！！\n",
    "        inputElement = driver.find_element_by_id(\"search-input\")\n",
    "        inputElement.send_keys(temp_r_name)\n",
    "        \n",
    "        # hit enter after inputting the text\n",
    "        inputElement.send_keys(Keys.RETURN)\n",
    "         \n",
    "    except:\n",
    "        print(1)"
   ]
  },
  {
   "cell_type": "code",
   "execution_count": 232,
   "id": "81cce52b",
   "metadata": {},
   "outputs": [],
   "source": [
    "more_than_one_result = []"
   ]
  },
  {
   "cell_type": "code",
   "execution_count": 237,
   "id": "99321f7f",
   "metadata": {},
   "outputs": [],
   "source": [
    "one_result = 0"
   ]
  },
  {
   "cell_type": "code",
   "execution_count": 235,
   "id": "bdac2104",
   "metadata": {},
   "outputs": [],
   "source": [
    "more_than_one_result = 0"
   ]
  },
  {
   "cell_type": "code",
   "execution_count": null,
   "id": "add13b0c",
   "metadata": {},
   "outputs": [],
   "source": [
    "def get_recipe_name(temp_r_name):\n",
    "    try :\n",
    "        driver.implicitly_wait(1)\n",
    "        driver.find_element_by_css_selector('#search-filters > div')\n",
    "        more_than_one_result.append(temp_r_name)\n",
    "        more_than_one_result += 1\n",
    "    except:\n",
    "        one_result += 1"
   ]
  },
  {
   "cell_type": "code",
   "execution_count": 241,
   "id": "7863a641",
   "metadata": {},
   "outputs": [],
   "source": [
    "save_for_later = []"
   ]
  },
  {
   "cell_type": "code",
   "execution_count": 243,
   "id": "efad1d14",
   "metadata": {},
   "outputs": [],
   "source": [
    "test = []\n",
    "for x in minutes_revised.keys():\n",
    "    test.append(x)"
   ]
  },
  {
   "cell_type": "code",
   "execution_count": null,
   "id": "21f3a189",
   "metadata": {},
   "outputs": [
    {
     "name": "stdout",
     "output_type": "stream",
     "text": [
      "1\n"
     ]
    },
    {
     "name": "stderr",
     "output_type": "stream",
     "text": [
      "<ipython-input-238-fc0a92c546a8>:4: DeprecationWarning: find_element_by_* commands are deprecated. Please use find_element() instead\n",
      "  driver.find_element_by_css_selector('#search-filters > div')\n"
     ]
    },
    {
     "name": "stdout",
     "output_type": "stream",
     "text": [
      "1\n",
      "1\n",
      "1\n",
      "1\n",
      "1\n",
      "1\n",
      "1\n",
      "1\n"
     ]
    }
   ],
   "source": [
    "for r in test[:100]:\n",
    "    try:\n",
    "        check_recipe(r)\n",
    "        get_recipe_name(r)\n",
    "    except:\n",
    "        save_for_later.append(r)"
   ]
  },
  {
   "cell_type": "code",
   "execution_count": null,
   "id": "6aa613be",
   "metadata": {},
   "outputs": [],
   "source": []
  },
  {
   "cell_type": "code",
   "execution_count": null,
   "id": "1e894939",
   "metadata": {},
   "outputs": [],
   "source": []
  },
  {
   "cell_type": "code",
   "execution_count": null,
   "id": "f96a18c0",
   "metadata": {},
   "outputs": [],
   "source": []
  },
  {
   "cell_type": "code",
   "execution_count": null,
   "id": "b8b2c78d",
   "metadata": {},
   "outputs": [],
   "source": []
  },
  {
   "cell_type": "code",
   "execution_count": null,
   "id": "fbeac06f",
   "metadata": {},
   "outputs": [],
   "source": []
  },
  {
   "cell_type": "code",
   "execution_count": null,
   "id": "814d988b",
   "metadata": {},
   "outputs": [],
   "source": []
  },
  {
   "cell_type": "code",
   "execution_count": null,
   "id": "22c225b5",
   "metadata": {},
   "outputs": [],
   "source": []
  },
  {
   "cell_type": "code",
   "execution_count": null,
   "id": "19d48ccb",
   "metadata": {},
   "outputs": [],
   "source": []
  },
  {
   "cell_type": "code",
   "execution_count": null,
   "id": "88e11369",
   "metadata": {},
   "outputs": [],
   "source": []
  },
  {
   "cell_type": "code",
   "execution_count": null,
   "id": "3e7b1933",
   "metadata": {},
   "outputs": [],
   "source": []
  },
  {
   "cell_type": "code",
   "execution_count": null,
   "id": "0c45c511",
   "metadata": {},
   "outputs": [],
   "source": []
  }
 ],
 "metadata": {
  "kernelspec": {
   "display_name": "Python 3",
   "language": "python",
   "name": "python3"
  },
  "language_info": {
   "codemirror_mode": {
    "name": "ipython",
    "version": 3
   },
   "file_extension": ".py",
   "mimetype": "text/x-python",
   "name": "python",
   "nbconvert_exporter": "python",
   "pygments_lexer": "ipython3",
   "version": "3.8.8"
  }
 },
 "nbformat": 4,
 "nbformat_minor": 5
}
