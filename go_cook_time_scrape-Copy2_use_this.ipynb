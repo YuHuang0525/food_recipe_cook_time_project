{
 "cells": [
  {
   "cell_type": "code",
   "execution_count": 1,
   "id": "26d9c171",
   "metadata": {},
   "outputs": [],
   "source": [
    "from selenium import webdriver\n",
    "from webdriver_manager.chrome import ChromeDriverManager\n",
    "from selenium.webdriver.common.by import By\n",
    "from selenium.webdriver.support.ui import WebDriverWait\n",
    "from selenium.webdriver.support import expected_conditions as EC\n",
    "from selenium.common.exceptions import TimeoutException"
   ]
  },
  {
   "cell_type": "code",
   "execution_count": 2,
   "id": "1945e3cd",
   "metadata": {},
   "outputs": [],
   "source": [
    "from selenium.webdriver.remote.webelement import WebElement"
   ]
  },
  {
   "cell_type": "code",
   "execution_count": 3,
   "id": "821be678",
   "metadata": {},
   "outputs": [],
   "source": [
    "from selenium.webdriver.common.keys import Keys"
   ]
  },
  {
   "cell_type": "code",
   "execution_count": 4,
   "id": "63c58c7c",
   "metadata": {},
   "outputs": [],
   "source": [
    "from bs4 import BeautifulSoup"
   ]
  },
  {
   "cell_type": "code",
   "execution_count": 5,
   "id": "7d59b618",
   "metadata": {},
   "outputs": [],
   "source": [
    "import re"
   ]
  },
  {
   "cell_type": "code",
   "execution_count": 178,
   "id": "c5801b5b",
   "metadata": {},
   "outputs": [],
   "source": [
    "import time"
   ]
  },
  {
   "cell_type": "code",
   "execution_count": 7,
   "id": "71b460a0",
   "metadata": {},
   "outputs": [],
   "source": [
    "# import PyQuery to strip html to text\n",
    "from pyquery import PyQuery as pq"
   ]
  },
  {
   "cell_type": "code",
   "execution_count": 112,
   "id": "5daf4819",
   "metadata": {
    "scrolled": true
   },
   "outputs": [
    {
     "name": "stderr",
     "output_type": "stream",
     "text": [
      "[WDM] - \n",
      "\n",
      "[WDM] - ====== WebDriver manager ======\n",
      "[WDM] - Current google-chrome version is 95.0.4638\n",
      "[WDM] - Get LATEST driver version for 95.0.4638\n",
      "[WDM] - Driver [C:\\Users\\YH\\.wdm\\drivers\\chromedriver\\win32\\95.0.4638.69\\chromedriver.exe] found in cache\n",
      "<ipython-input-112-e4ca72fa0b5a>:1: DeprecationWarning: executable_path has been deprecated, please pass in a Service object\n",
      "  driver = webdriver.Chrome(ChromeDriverManager().install())\n"
     ]
    }
   ],
   "source": [
    "driver = webdriver.Chrome(ChromeDriverManager().install())\n",
    "wait = WebDriverWait(driver, 20)"
   ]
  },
  {
   "cell_type": "code",
   "execution_count": 3,
   "id": "05ea8567",
   "metadata": {},
   "outputs": [],
   "source": [
    "def search():\n",
    "    try:\n",
    "        driver.get('food.com')\n",
    "        # 等待搜索框加载出来\n",
    "    except TimeoutException:\n",
    "        # 如果出现超时异常，重新执行search()函数\n",
    "        return search()"
   ]
  },
  {
   "cell_type": "code",
   "execution_count": 29,
   "id": "adc7e164",
   "metadata": {},
   "outputs": [],
   "source": [
    "import gzip"
   ]
  },
  {
   "cell_type": "code",
   "execution_count": 30,
   "id": "1b5e75e3",
   "metadata": {},
   "outputs": [],
   "source": [
    "def readGz(path):\n",
    "    for l in gzip.open(path, 'rt',encoding='utf-8'):\n",
    "        yield eval(l)"
   ]
  },
  {
   "cell_type": "code",
   "execution_count": 31,
   "id": "b7e3c748",
   "metadata": {},
   "outputs": [],
   "source": [
    "test_recipes = []\n",
    "for d in readGz(\"testRecipes.json.gz\"):\n",
    "    test_recipes.append(d)"
   ]
  },
  {
   "cell_type": "code",
   "execution_count": 32,
   "id": "2d852cc6",
   "metadata": {},
   "outputs": [],
   "source": [
    "test_recipes_name = []\n",
    "for x in test_recipes:\n",
    "    test_recipes_name.append(x['name'])"
   ]
  },
  {
   "cell_type": "code",
   "execution_count": 13,
   "id": "83613335",
   "metadata": {},
   "outputs": [
    {
     "data": {
      "text/plain": [
       "'easter egg spread'"
      ]
     },
     "execution_count": 13,
     "metadata": {},
     "output_type": "execute_result"
    }
   ],
   "source": [
    "test_recipes_name[100]"
   ]
  },
  {
   "cell_type": "code",
   "execution_count": 226,
   "id": "b2b31c75",
   "metadata": {},
   "outputs": [],
   "source": [
    "test_recipes_name_id = dict()\n",
    "for r in test_recipes:\n",
    "    test_recipes_name_id[r['name']] = r['recipe_id']"
   ]
  },
  {
   "cell_type": "code",
   "execution_count": 33,
   "id": "7419ef33",
   "metadata": {},
   "outputs": [],
   "source": [
    "ambiguous_recipe = []"
   ]
  },
  {
   "cell_type": "code",
   "execution_count": null,
   "id": "aeddb633",
   "metadata": {},
   "outputs": [],
   "source": []
  },
  {
   "cell_type": "code",
   "execution_count": 101,
   "id": "cd5a59c8",
   "metadata": {},
   "outputs": [],
   "source": [
    "def search_recipe(temp_r_name):\n",
    "    \n",
    "    try:\n",
    "        submit = wait.until(\n",
    "            EC.element_to_be_clickable((By.CSS_SELECTOR, 'body > div.fd-site > div.fd-site-wrapper > section.gk-header-wrap.Food\\.com > header > div > div > div > nav:nth-child(2) > ul > li.v-nav-toggle.has-icon.gk-nav__search > a > i'))\n",
    "        )\n",
    "        submit.click()\n",
    "        \n",
    "        # input the search recipe\n",
    "        # 找text box需要通过id去找 注意！！！\n",
    "        inputElement = driver.find_element_by_id(\"search-input\")\n",
    "        inputElement.send_keys(temp_r_name)\n",
    "        \n",
    "        # hit enter after inputting the text\n",
    "        inputElement.send_keys(Keys.RETURN)\n",
    "        \n",
    "        \n",
    "    except:\n",
    "        print(1)\n",
    "        "
   ]
  },
  {
   "cell_type": "code",
   "execution_count": 35,
   "id": "46835481",
   "metadata": {},
   "outputs": [],
   "source": [
    "def get_minutes(temp_r_name):\n",
    "    try :\n",
    "        driver.implicitly_wait(1)\n",
    "        driver.find_element_by_css_selector('#gk-menu-search > div.fd-menu-inner > div.search-module-results.on > header > div > h3')\n",
    "        ambiguous_recipe.append(temp_r_name)\n",
    "    except:\n",
    "        # make sure the driver wait for the whole page to be loaded\n",
    "        driver.implicitly_wait(2)\n",
    "        # 注意下面这一行代码，如果没有上面那一行代码去设置等待时间，可能会报错，因为提取的太快了，需要等待全部load\n",
    "        e = driver.find_element_by_css_selector('#gk-menu-search > div.fd-menu-inner > div.search-module-results.on > div > div > div > div > div.tile-content > div > div > div.meta-data > div.cook-time')\n",
    "        # get the entire thing of the corresponding div class\n",
    "        temp = e.get_attribute('outerHTML')\n",
    "        # using regular expression to find the text in between\n",
    "        time = re.findall('[0-9]+[\\s\\.]*[0-9]*\\s+[hm]*', temp)[0].strip()\n",
    "        temp_r_id = test_recipes_name_id[temp_r_name]\n",
    "        minutes[temp_r_id] = time"
   ]
  },
  {
   "cell_type": "code",
   "execution_count": null,
   "id": "f5889d1a",
   "metadata": {},
   "outputs": [],
   "source": []
  },
  {
   "cell_type": "code",
   "execution_count": 36,
   "id": "db434c84",
   "metadata": {},
   "outputs": [],
   "source": [
    "cnt = 0"
   ]
  },
  {
   "cell_type": "code",
   "execution_count": 47,
   "id": "825ed236",
   "metadata": {},
   "outputs": [
    {
     "data": {
      "text/plain": [
       "75"
      ]
     },
     "execution_count": 47,
     "metadata": {},
     "output_type": "execute_result"
    }
   ],
   "source": [
    "len(minutes)"
   ]
  },
  {
   "cell_type": "code",
   "execution_count": 48,
   "id": "96ea8327",
   "metadata": {},
   "outputs": [],
   "source": [
    "final_minutes = minutes.copy()"
   ]
  },
  {
   "cell_type": "code",
   "execution_count": 45,
   "id": "37745b6d",
   "metadata": {
    "scrolled": true
   },
   "outputs": [
    {
     "data": {
      "text/plain": [
       "'cornmeal fish sticks kid friendly'"
      ]
     },
     "execution_count": 45,
     "metadata": {},
     "output_type": "execute_result"
    }
   ],
   "source": [
    "test_recipes_name[41]"
   ]
  },
  {
   "cell_type": "code",
   "execution_count": 51,
   "id": "f13bd442",
   "metadata": {
    "scrolled": true
   },
   "outputs": [
    {
     "data": {
      "text/plain": [
       "97"
      ]
     },
     "execution_count": 51,
     "metadata": {},
     "output_type": "execute_result"
    }
   ],
   "source": [
    "cnt"
   ]
  },
  {
   "cell_type": "markdown",
   "id": "d306d327",
   "metadata": {},
   "source": [
    "3500 - 4000 这个范围可能需要再重新loop一次"
   ]
  },
  {
   "cell_type": "code",
   "execution_count": 87,
   "id": "14168e26",
   "metadata": {},
   "outputs": [
    {
     "data": {
      "text/plain": [
       "'bread machine whole grain bread'"
      ]
     },
     "execution_count": 87,
     "metadata": {},
     "output_type": "execute_result"
    }
   ],
   "source": [
    "test_recipes_name[3500]"
   ]
  },
  {
   "cell_type": "code",
   "execution_count": null,
   "id": "b7c0f858",
   "metadata": {},
   "outputs": [],
   "source": []
  },
  {
   "cell_type": "code",
   "execution_count": 134,
   "id": "1c075fc8",
   "metadata": {
    "scrolled": false
   },
   "outputs": [
    {
     "name": "stderr",
     "output_type": "stream",
     "text": [
      "<ipython-input-101-e08244d68d36>:11: DeprecationWarning: find_element_by_* commands are deprecated. Please use find_element() instead\n",
      "  inputElement = driver.find_element_by_id(\"search-input\")\n",
      "<ipython-input-35-d3b1c26dd64d>:4: DeprecationWarning: find_element_by_* commands are deprecated. Please use find_element() instead\n",
      "  driver.find_element_by_css_selector('#gk-menu-search > div.fd-menu-inner > div.search-module-results.on > header > div > h3')\n",
      "<ipython-input-35-d3b1c26dd64d>:10: DeprecationWarning: find_element_by_* commands are deprecated. Please use find_element() instead\n",
      "  e = driver.find_element_by_css_selector('#gk-menu-search > div.fd-menu-inner > div.search-module-results.on > div > div > div > div > div.tile-content > div > div > div.meta-data > div.cook-time')\n"
     ]
    }
   ],
   "source": [
    "for r in test_recipes_name[5500:5700]:\n",
    "    try:\n",
    "        search_recipe(r)\n",
    "        get_minutes(r)\n",
    "        cnt += 1\n",
    "    except:\n",
    "        if r in ambiguous_recipe:\n",
    "            continue\n",
    "        else:\n",
    "            ambiguous_recipe.append(r)\n",
    "            continue"
   ]
  },
  {
   "cell_type": "code",
   "execution_count": 135,
   "id": "6ebb107d",
   "metadata": {},
   "outputs": [
    {
     "data": {
      "text/plain": [
       "4216"
      ]
     },
     "execution_count": 135,
     "metadata": {},
     "output_type": "execute_result"
    }
   ],
   "source": [
    "len(set(minutes.keys()))"
   ]
  },
  {
   "cell_type": "code",
   "execution_count": 136,
   "id": "85770f6b",
   "metadata": {
    "scrolled": false
   },
   "outputs": [
    {
     "data": {
      "text/plain": [
       "4216"
      ]
     },
     "execution_count": 136,
     "metadata": {},
     "output_type": "execute_result"
    }
   ],
   "source": [
    "len(minutes)"
   ]
  },
  {
   "cell_type": "code",
   "execution_count": 138,
   "id": "c0c3f375",
   "metadata": {},
   "outputs": [
    {
     "data": {
      "text/plain": [
       "2269"
      ]
     },
     "execution_count": 138,
     "metadata": {},
     "output_type": "execute_result"
    }
   ],
   "source": [
    "len(set(ambiguous_recipe))"
   ]
  },
  {
   "cell_type": "code",
   "execution_count": 137,
   "id": "5e21fde1",
   "metadata": {
    "scrolled": true
   },
   "outputs": [
    {
     "name": "stdout",
     "output_type": "stream",
     "text": [
      "Stored 'minutes' (dict)\n"
     ]
    }
   ],
   "source": [
    "%store minutes"
   ]
  },
  {
   "cell_type": "code",
   "execution_count": 91,
   "id": "7e287c64",
   "metadata": {},
   "outputs": [],
   "source": [
    "%store -r minutes"
   ]
  },
  {
   "cell_type": "code",
   "execution_count": 327,
   "id": "4d11f76e",
   "metadata": {
    "scrolled": true
   },
   "outputs": [],
   "source": [
    "final_minutes = minutes.copy()"
   ]
  },
  {
   "cell_type": "code",
   "execution_count": 344,
   "id": "445e1e80",
   "metadata": {},
   "outputs": [],
   "source": [
    "final_minutes['86877533'] = '15 m'"
   ]
  },
  {
   "cell_type": "code",
   "execution_count": 263,
   "id": "c053a6b6",
   "metadata": {
    "scrolled": true
   },
   "outputs": [
    {
     "name": "stderr",
     "output_type": "stream",
     "text": [
      "<ipython-input-173-f10862dff810>:13: DeprecationWarning: find_element_by_* commands are deprecated. Please use find_element() instead\n",
      "  inputElement = driver.find_element_by_id(\"search-input\")\n",
      "<ipython-input-246-522f8bb42d4b>:5: DeprecationWarning: find_element_by_* commands are deprecated. Please use find_element() instead\n",
      "  e = driver.find_element_by_css_selector('#gk-menu-search > div.fd-menu-inner > div.search-module-results.on > div > div > div > div > div.tile-content > div > div > div.meta-data > div.cook-time')\n"
     ]
    }
   ],
   "source": [
    "def main():\n",
    "    try:\n",
    "        for r in test_recipes_name[13:]:\n",
    "            search_recipe(r)\n",
    "            get_minutes(r)\n",
    "            cnt += 1\n",
    "    except:\n",
    "        ambiguous_recipe.append(r)\n",
    "    \n",
    "if __name__ == \"__main__\":\n",
    "    main()"
   ]
  },
  {
   "cell_type": "code",
   "execution_count": 280,
   "id": "e2e42714",
   "metadata": {},
   "outputs": [
    {
     "data": {
      "text/plain": [
       "['rhubarb pie ii',\n",
       " 'ww 6 points mediterranean roast chicken',\n",
       " 'ww 6 points mediterranean roast chicken',\n",
       " 'sweet salty grilled cheese sandwich',\n",
       " 'sweet salty grilled cheese sandwich',\n",
       " 'taco pie in pie crust',\n",
       " 'beach bum smoothie from tropical smoothie cafe',\n",
       " 'prawn fettuccine in white sauce']"
      ]
     },
     "execution_count": 280,
     "metadata": {},
     "output_type": "execute_result"
    }
   ],
   "source": [
    "ambiguous_recipe"
   ]
  },
  {
   "cell_type": "code",
   "execution_count": null,
   "id": "b295f7b1",
   "metadata": {},
   "outputs": [],
   "source": []
  },
  {
   "cell_type": "code",
   "execution_count": null,
   "id": "e2f27f4d",
   "metadata": {},
   "outputs": [],
   "source": []
  },
  {
   "cell_type": "code",
   "execution_count": null,
   "id": "b2c08ba5",
   "metadata": {},
   "outputs": [],
   "source": [
    "## 可能之后会用到\n",
    "submit = wait.until(\n",
    "            EC.element_to_be_clickable((By.CSS_SELECTOR, 'body > div.fd-site > div.fd-site-wrapper > section.gk-header-wrap.Food\\.com > header > div > div > div > nav:nth-child(2) > ul > li.v-nav-toggle.has-icon.gk-nav__search > a > i'))\n",
    "        )\n",
    "        submit.click()\n",
    "        \n",
    "        # input the search recipe\n",
    "        # 找text box需要通过id去找 注意！！！\n",
    "        \n",
    "        inputElement = driver.find_element_by_id(\"search-input\")\n",
    "        t = []\n",
    "        temp_r_name_split = temp_r_name.split(' ')\n",
    "        for x in range(len(temp_r_name_split)):\n",
    "            if x == 0:\n",
    "                t.append(temp_r_name_split[x])\n",
    "                t.append('-')\n",
    "            else:\n",
    "                t.append(temp_r_name_split[x])\n",
    "        revised_r_name = ''.join(t[:3]) + ' '+ ' '.join(t[3:])\n",
    "        \n",
    "        inputElement.send_keys(revised_r_name)\n",
    "        # hit enter after inputting the text\n",
    "        inputElement.send_keys(Keys.RETURN)\n",
    "        \n",
    "        # make sure the driver wait for the whole page to be loaded\n",
    "        driver.implicitly_wait(10)\n",
    "        # 注意下面这一行代码，如果没有上面那一行代码去设置等待时间，可能会报错，因为提取的太快了，需要等待全部load\n",
    "        e = driver.find_element_by_css_selector('#gk-menu-search > div.fd-menu-inner > div.search-module-results.on > div > div > div > div > div.tile-content > div > div > div.meta-data > div.cook-time')\n",
    "        # get the entire thing of the corresponding div class\n",
    "        temp = e.get_attribute('outerHTML')\n",
    "        # using regular expression to find the text in between\n",
    "        time = re.findall('[0-9]+[\\s\\.]*[0-9]*\\s+[hm]*', temp)[0].strip()\n",
    "        temp_r_id = test_recipes_name_id[temp_r_name]\n",
    "        minutes[temp_r_id] = time"
   ]
  },
  {
   "cell_type": "code",
   "execution_count": null,
   "id": "d7f8e0a5",
   "metadata": {},
   "outputs": [],
   "source": []
  },
  {
   "cell_type": "markdown",
   "id": "66a8b7d4",
   "metadata": {},
   "source": [
    "save the minutes_revised to a csv"
   ]
  },
  {
   "cell_type": "code",
   "execution_count": 173,
   "id": "1c23fca0",
   "metadata": {},
   "outputs": [
    {
     "name": "stdout",
     "output_type": "stream",
     "text": [
      "Stored 'minutes_revised' (dict)\n"
     ]
    }
   ],
   "source": [
    "%store minutes_revised"
   ]
  },
  {
   "cell_type": "code",
   "execution_count": 174,
   "id": "d3635a47",
   "metadata": {},
   "outputs": [],
   "source": [
    "minutes_to_csv_list = []\n",
    "for x, y in minutes_revised.items():\n",
    "    minutes_to_csv_list.append([x,y])"
   ]
  },
  {
   "cell_type": "code",
   "execution_count": 170,
   "id": "6750a38c",
   "metadata": {},
   "outputs": [],
   "source": [
    "import csv"
   ]
  },
  {
   "cell_type": "code",
   "execution_count": 198,
   "id": "2fa91a36",
   "metadata": {},
   "outputs": [],
   "source": [
    "actual_minutes = []"
   ]
  },
  {
   "cell_type": "code",
   "execution_count": 199,
   "id": "50248705",
   "metadata": {},
   "outputs": [],
   "source": [
    "with open('actual_minutes.csv', 'r') as csvfile:\n",
    "    read = csv.reader(csvfile)\n",
    "    for row in read:\n",
    "        actual_minutes.append(row)"
   ]
  },
  {
   "cell_type": "code",
   "execution_count": 200,
   "id": "14b55325",
   "metadata": {},
   "outputs": [],
   "source": [
    "actual_minutes_revised = []\n",
    "for x in actual_minutes:\n",
    "    if x != []:\n",
    "        actual_minutes_revised.append(x)"
   ]
  },
  {
   "cell_type": "code",
   "execution_count": 202,
   "id": "3b87066e",
   "metadata": {},
   "outputs": [],
   "source": [
    "actual_minutes_dict = {}\n",
    "for x in actual_minutes_revised:\n",
    "    actual_minutes_dict[x[0]] = x[1]"
   ]
  },
  {
   "cell_type": "code",
   "execution_count": null,
   "id": "f76ece6d",
   "metadata": {},
   "outputs": [],
   "source": []
  },
  {
   "cell_type": "code",
   "execution_count": null,
   "id": "9436955c",
   "metadata": {},
   "outputs": [],
   "source": []
  },
  {
   "cell_type": "code",
   "execution_count": null,
   "id": "0a7d8e98",
   "metadata": {},
   "outputs": [],
   "source": []
  },
  {
   "cell_type": "code",
   "execution_count": null,
   "id": "48ba2f0c",
   "metadata": {},
   "outputs": [],
   "source": []
  },
  {
   "cell_type": "code",
   "execution_count": 148,
   "id": "5782fe11",
   "metadata": {},
   "outputs": [
    {
     "name": "stdout",
     "output_type": "stream",
     "text": [
      "52197719\n",
      "89677787\n",
      "70090766\n",
      "02608051\n"
     ]
    }
   ],
   "source": [
    "minutes_revised = dict()\n",
    "for x,y in minutes.items():\n",
    "    temp = y.strip().split(' ')\n",
    "    if 'h' in temp:\n",
    "        minutes_revised[x] = float(temp[0]) * 60\n",
    "    elif 'm' in temp:\n",
    "        minutes_revised[x] = float(temp[0])\n",
    "    else:\n",
    "        print(x)"
   ]
  },
  {
   "cell_type": "code",
   "execution_count": 162,
   "id": "50111da4",
   "metadata": {
    "scrolled": true
   },
   "outputs": [
    {
     "data": {
      "text/plain": [
       "'1.2'"
      ]
     },
     "execution_count": 162,
     "metadata": {},
     "output_type": "execute_result"
    }
   ],
   "source": [
    "minutes['02608051']"
   ]
  },
  {
   "cell_type": "code",
   "execution_count": 152,
   "id": "453c30a2",
   "metadata": {},
   "outputs": [
    {
     "data": {
      "text/plain": [
       "72.0"
      ]
     },
     "execution_count": 152,
     "metadata": {},
     "output_type": "execute_result"
    }
   ],
   "source": [
    "1.2*60"
   ]
  },
  {
   "cell_type": "code",
   "execution_count": 228,
   "id": "8ffb738c",
   "metadata": {
    "scrolled": true
   },
   "outputs": [
    {
     "name": "stdout",
     "output_type": "stream",
     "text": [
      "crock pot yellow pea soup with chorizo ['dried split yellow peas', 'water', 'carrot', 'chicken broth', 'pepper', 'seasoning salt', 'green onion', 'potato', 'red pepper', 'canned corn niblets', 'cajun seasoning', 'chorizo sausages']\n"
     ]
    }
   ],
   "source": [
    "for r in test_recipes:\n",
    "    if r['recipe_id'] == '21702487':\n",
    "        print(r['name'],r['ingredients'])"
   ]
  },
  {
   "cell_type": "code",
   "execution_count": 229,
   "id": "7f7bf465",
   "metadata": {},
   "outputs": [
    {
     "data": {
      "text/plain": [
       "4216"
      ]
     },
     "execution_count": 229,
     "metadata": {},
     "output_type": "execute_result"
    }
   ],
   "source": [
    "len(minutes_revised.keys())"
   ]
  },
  {
   "cell_type": "code",
   "execution_count": 33,
   "id": "f47d2338",
   "metadata": {},
   "outputs": [],
   "source": [
    "def check_recipe(temp_r_name):\n",
    "    \n",
    "    try:\n",
    "        submit = wait.until(\n",
    "            EC.element_to_be_clickable((By.CSS_SELECTOR, 'body > div.fd-site > div.fd-site-wrapper > section.gk-header-wrap.Food\\.com > header > div > div > div > nav:nth-child(2) > ul > li.v-nav-toggle.has-icon.gk-nav__search > a > i'))\n",
    "        )\n",
    "        submit.click()\n",
    "        \n",
    "        # input the search recipe\n",
    "        # 找text box需要通过id去找 注意！！！\n",
    "        inputElement = driver.find_element_by_id(\"search-input\")\n",
    "        inputElement.send_keys(temp_r_name)\n",
    "        \n",
    "        # hit enter after inputting the text\n",
    "        inputElement.send_keys(Keys.RETURN)\n",
    "         \n",
    "    except:\n",
    "        print(1)"
   ]
  },
  {
   "cell_type": "code",
   "execution_count": 57,
   "id": "6cba9456",
   "metadata": {},
   "outputs": [],
   "source": [
    "def get_recipe_name(temp_r_name):\n",
    "    try :\n",
    "        driver.implicitly_wait(2)\n",
    "        driver.find_element_by_css_selector('#search-filters > div')\n",
    "        more_than_one_result.append(temp_r_name)\n",
    "    except:\n",
    "        one_result.append(temp_r_name)"
   ]
  },
  {
   "cell_type": "code",
   "execution_count": 39,
   "id": "4955c4ff",
   "metadata": {},
   "outputs": [],
   "source": [
    "test = []\n",
    "for x in minutes_revised.keys():\n",
    "    test.append(x)"
   ]
  },
  {
   "cell_type": "code",
   "execution_count": 40,
   "id": "b2570532",
   "metadata": {},
   "outputs": [],
   "source": [
    "test_r_name = dict()\n",
    "for x in test_recipes:\n",
    "    test_r_name[x['recipe_id']] = x['name']"
   ]
  },
  {
   "cell_type": "code",
   "execution_count": 77,
   "id": "5e2b461a",
   "metadata": {},
   "outputs": [],
   "source": [
    "executed = 0"
   ]
  },
  {
   "cell_type": "code",
   "execution_count": 58,
   "id": "43df9c8b",
   "metadata": {
    "scrolled": false
   },
   "outputs": [
    {
     "name": "stderr",
     "output_type": "stream",
     "text": [
      "<ipython-input-33-17e884cff15c>:11: DeprecationWarning: find_element_by_* commands are deprecated. Please use find_element() instead\n",
      "  inputElement = driver.find_element_by_id(\"search-input\")\n",
      "<ipython-input-57-c3e545f8410b>:4: DeprecationWarning: find_element_by_* commands are deprecated. Please use find_element() instead\n",
      "  driver.find_element_by_css_selector('#search-filters > div')\n"
     ]
    }
   ],
   "source": [
    "r_name = test_r_name['79578623']\n",
    "check_recipe(r_name)\n",
    "get_recipe_name(r_name)"
   ]
  },
  {
   "cell_type": "code",
   "execution_count": 179,
   "id": "3bcc97d3",
   "metadata": {},
   "outputs": [],
   "source": [
    "executed = 0"
   ]
  },
  {
   "cell_type": "code",
   "execution_count": 180,
   "id": "6c194cdd",
   "metadata": {},
   "outputs": [],
   "source": [
    "more_than_one_result = []\n",
    "save_for_later = []\n",
    "one_result = []"
   ]
  },
  {
   "cell_type": "code",
   "execution_count": 216,
   "id": "a6f8bf21",
   "metadata": {
    "scrolled": true
   },
   "outputs": [
    {
     "name": "stderr",
     "output_type": "stream",
     "text": [
      "<ipython-input-216-95756f2fda6b>:12: DeprecationWarning: find_element_by_* commands are deprecated. Please use find_element() instead\n",
      "  inputElement = driver.find_element_by_id(\"search-input\")\n",
      "<ipython-input-216-95756f2fda6b>:28: DeprecationWarning: find_element_by_* commands are deprecated. Please use find_element() instead\n",
      "  e = driver.find_element_by_css_selector('#searchModuleTitle')\n"
     ]
    },
    {
     "name": "stdout",
     "output_type": "stream",
     "text": [
      "<h1 id=\"searchModuleTitle\">12 Results</h1>\n",
      "4001\n",
      "<h1 id=\"searchModuleTitle\">1 Result</h1>\n",
      "4002\n",
      "<h1 id=\"searchModuleTitle\">17 Results</h1>\n",
      "4003\n",
      "<h1 id=\"searchModuleTitle\">1 Result</h1>\n",
      "4004\n",
      "<h1 id=\"searchModuleTitle\">19 Results</h1>\n",
      "4005\n",
      "<h1 id=\"searchModuleTitle\">1 Result</h1>\n",
      "4006\n",
      "<h1 id=\"searchModuleTitle\">1 Result</h1>\n",
      "4007\n",
      "<h1 id=\"searchModuleTitle\">1 Result</h1>\n",
      "4008\n",
      "<h1 id=\"searchModuleTitle\">1 Result</h1>\n",
      "4009\n",
      "<h1 id=\"searchModuleTitle\">1 Result</h1>\n",
      "4010\n",
      "<h1 id=\"searchModuleTitle\">1 Result</h1>\n",
      "4011\n",
      "<h1 id=\"searchModuleTitle\">2 Results</h1>\n",
      "4012\n",
      "<h1 id=\"searchModuleTitle\">1 Result</h1>\n",
      "4013\n",
      "<h1 id=\"searchModuleTitle\">2 Results</h1>\n",
      "4014\n",
      "<h1 id=\"searchModuleTitle\">5 Results</h1>\n",
      "4015\n",
      "<h1 id=\"searchModuleTitle\">3 Results</h1>\n",
      "4016\n",
      "<h1 id=\"searchModuleTitle\">3 Results</h1>\n",
      "4017\n",
      "<h1 id=\"searchModuleTitle\">1 Result</h1>\n",
      "4018\n",
      "<h1 id=\"searchModuleTitle\">3 Results</h1>\n",
      "4019\n",
      "<h1 id=\"searchModuleTitle\">1 Result</h1>\n",
      "4020\n",
      "<h1 id=\"searchModuleTitle\">2 Results</h1>\n",
      "4021\n",
      "<h1 id=\"searchModuleTitle\">1 Result</h1>\n",
      "4022\n",
      "<h1 id=\"searchModuleTitle\">3 Results</h1>\n",
      "4023\n",
      "<h1 id=\"searchModuleTitle\">3 Results</h1>\n",
      "4024\n",
      "<h1 id=\"searchModuleTitle\">1 Result</h1>\n",
      "4025\n",
      "<h1 id=\"searchModuleTitle\">6 Results</h1>\n",
      "4026\n",
      "<h1 id=\"searchModuleTitle\">2 Results</h1>\n",
      "4027\n",
      "<h1 id=\"searchModuleTitle\">1 Result</h1>\n",
      "4028\n",
      "<h1 id=\"searchModuleTitle\">1 Result</h1>\n",
      "4029\n",
      "<h1 id=\"searchModuleTitle\">1 Result</h1>\n",
      "4030\n",
      "<h1 id=\"searchModuleTitle\">1 Result</h1>\n",
      "4031\n",
      "<h1 id=\"searchModuleTitle\">1 Result</h1>\n",
      "4032\n",
      "<h1 id=\"searchModuleTitle\">2 Results</h1>\n",
      "4033\n",
      "<h1 id=\"searchModuleTitle\">1 Result</h1>\n",
      "4034\n",
      "<h1 id=\"searchModuleTitle\">5 Results</h1>\n",
      "4035\n",
      "<h1 id=\"searchModuleTitle\">1 Result</h1>\n",
      "4036\n",
      "<h1 id=\"searchModuleTitle\">1 Result</h1>\n",
      "4037\n",
      "<h1 id=\"searchModuleTitle\">1 Result</h1>\n",
      "4038\n",
      "<h1 id=\"searchModuleTitle\">2 Results</h1>\n",
      "4039\n",
      "<h1 id=\"searchModuleTitle\">2 Results</h1>\n",
      "4040\n",
      "<h1 id=\"searchModuleTitle\">1 Result</h1>\n",
      "4041\n",
      "<h1 id=\"searchModuleTitle\">1 Result</h1>\n",
      "4042\n",
      "<h1 id=\"searchModuleTitle\">526,561 Results</h1>\n",
      "4043\n",
      "<h1 id=\"searchModuleTitle\">1 Result</h1>\n",
      "4044\n",
      "<h1 id=\"searchModuleTitle\">1 Result</h1>\n",
      "4045\n",
      "<h1 id=\"searchModuleTitle\">1 Result</h1>\n",
      "4046\n",
      "<h1 id=\"searchModuleTitle\">1 Result</h1>\n",
      "4047\n",
      "<h1 id=\"searchModuleTitle\">1 Result</h1>\n",
      "4048\n",
      "<h1 id=\"searchModuleTitle\">1 Result</h1>\n",
      "4049\n",
      "<h1 id=\"searchModuleTitle\">1 Result</h1>\n",
      "4050\n",
      "<h1 id=\"searchModuleTitle\">1 Result</h1>\n",
      "4051\n",
      "<h1 id=\"searchModuleTitle\">2 Results</h1>\n",
      "4052\n",
      "<h1 id=\"searchModuleTitle\">2 Results</h1>\n",
      "4053\n",
      "<h1 id=\"searchModuleTitle\">2 Results</h1>\n",
      "4054\n",
      "<h1 id=\"searchModuleTitle\">1 Result</h1>\n",
      "4055\n",
      "<h1 id=\"searchModuleTitle\">1 Result</h1>\n",
      "4056\n",
      "<h1 id=\"searchModuleTitle\">3 Results</h1>\n",
      "4057\n",
      "<h1 id=\"searchModuleTitle\">1 Result</h1>\n",
      "4058\n",
      "<h1 id=\"searchModuleTitle\">1 Result</h1>\n",
      "4059\n",
      "<h1 id=\"searchModuleTitle\">1 Result</h1>\n",
      "4060\n",
      "<h1 id=\"searchModuleTitle\">2 Results</h1>\n",
      "4061\n",
      "<h1 id=\"searchModuleTitle\">9 Results</h1>\n",
      "4062\n",
      "<h1 id=\"searchModuleTitle\">1 Result</h1>\n",
      "4063\n",
      "<h1 id=\"searchModuleTitle\">5 Results</h1>\n",
      "4064\n",
      "<h1 id=\"searchModuleTitle\">4 Results</h1>\n",
      "4065\n",
      "<h1 id=\"searchModuleTitle\">1 Result</h1>\n",
      "4066\n",
      "<h1 id=\"searchModuleTitle\">1 Result</h1>\n",
      "4067\n",
      "<h1 id=\"searchModuleTitle\">2 Results</h1>\n",
      "4068\n",
      "<h1 id=\"searchModuleTitle\">1 Result</h1>\n",
      "4069\n",
      "<h1 id=\"searchModuleTitle\">1 Result</h1>\n",
      "4070\n",
      "<h1 id=\"searchModuleTitle\">2 Results</h1>\n",
      "4071\n",
      "<h1 id=\"searchModuleTitle\">1 Result</h1>\n",
      "4072\n",
      "<h1 id=\"searchModuleTitle\">42 Results</h1>\n",
      "4073\n",
      "<h1 id=\"searchModuleTitle\">1 Result</h1>\n",
      "4074\n",
      "<h1 id=\"searchModuleTitle\">1 Result</h1>\n",
      "4075\n",
      "<h1 id=\"searchModuleTitle\">1 Result</h1>\n",
      "4076\n",
      "<h1 id=\"searchModuleTitle\">17 Results</h1>\n",
      "4077\n",
      "<h1 id=\"searchModuleTitle\">1 Result</h1>\n",
      "4078\n",
      "<h1 id=\"searchModuleTitle\">6 Results</h1>\n",
      "4079\n",
      "<h1 id=\"searchModuleTitle\">3 Results</h1>\n",
      "4080\n",
      "<h1 id=\"searchModuleTitle\">1 Result</h1>\n",
      "4081\n",
      "<h1 id=\"searchModuleTitle\">1 Result</h1>\n",
      "4082\n",
      "<h1 id=\"searchModuleTitle\">1 Result</h1>\n",
      "4083\n",
      "<h1 id=\"searchModuleTitle\">2 Results</h1>\n",
      "4084\n",
      "<h1 id=\"searchModuleTitle\">2 Results</h1>\n",
      "4085\n",
      "<h1 id=\"searchModuleTitle\">41 Results</h1>\n",
      "4086\n",
      "<h1 id=\"searchModuleTitle\">2 Results</h1>\n",
      "4087\n",
      "<h1 id=\"searchModuleTitle\">1 Result</h1>\n",
      "4088\n",
      "<h1 id=\"searchModuleTitle\">1 Result</h1>\n",
      "4089\n",
      "<h1 id=\"searchModuleTitle\">1 Result</h1>\n",
      "4090\n",
      "<h1 id=\"searchModuleTitle\">1 Result</h1>\n",
      "4091\n",
      "<h1 id=\"searchModuleTitle\">2 Results</h1>\n",
      "4092\n",
      "<h1 id=\"searchModuleTitle\">1 Result</h1>\n",
      "4093\n",
      "<h1 id=\"searchModuleTitle\">1 Result</h1>\n",
      "4094\n",
      "<h1 id=\"searchModuleTitle\">7 Results</h1>\n",
      "4095\n",
      "<h1 id=\"searchModuleTitle\">2 Results</h1>\n",
      "4096\n",
      "<h1 id=\"searchModuleTitle\">1 Result</h1>\n",
      "4097\n",
      "<h1 id=\"searchModuleTitle\">1 Result</h1>\n",
      "4098\n",
      "<h1 id=\"searchModuleTitle\">1 Result</h1>\n",
      "4099\n",
      "<h1 id=\"searchModuleTitle\">1 Result</h1>\n",
      "4100\n",
      "<h1 id=\"searchModuleTitle\">1 Result</h1>\n",
      "4101\n",
      "<h1 id=\"searchModuleTitle\">2 Results</h1>\n",
      "4102\n",
      "<h1 id=\"searchModuleTitle\">2 Results</h1>\n",
      "4103\n",
      "<h1 id=\"searchModuleTitle\">3 Results</h1>\n",
      "4104\n",
      "<h1 id=\"searchModuleTitle\">1 Result</h1>\n",
      "4105\n",
      "<h1 id=\"searchModuleTitle\">2 Results</h1>\n",
      "4106\n",
      "<h1 id=\"searchModuleTitle\">1 Result</h1>\n",
      "4107\n",
      "<h1 id=\"searchModuleTitle\">9 Results</h1>\n",
      "4108\n",
      "<h1 id=\"searchModuleTitle\">1 Result</h1>\n",
      "4109\n",
      "<h1 id=\"searchModuleTitle\">3 Results</h1>\n",
      "4110\n",
      "<h1 id=\"searchModuleTitle\">1 Result</h1>\n",
      "4111\n",
      "<h1 id=\"searchModuleTitle\">1 Result</h1>\n",
      "4112\n",
      "<h1 id=\"searchModuleTitle\">526,561 Results</h1>\n",
      "4113\n",
      "<h1 id=\"searchModuleTitle\">1 Result</h1>\n",
      "4114\n",
      "<h1 id=\"searchModuleTitle\">1 Result</h1>\n",
      "4115\n",
      "<h1 id=\"searchModuleTitle\">2 Results</h1>\n",
      "4116\n",
      "<h1 id=\"searchModuleTitle\">1 Result</h1>\n",
      "4117\n",
      "<h1 id=\"searchModuleTitle\">71 Results</h1>\n",
      "4118\n",
      "<h1 id=\"searchModuleTitle\">1 Result</h1>\n",
      "4119\n",
      "<h1 id=\"searchModuleTitle\">10 Results</h1>\n",
      "4120\n",
      "<h1 id=\"searchModuleTitle\">1 Result</h1>\n",
      "4121\n",
      "<h1 id=\"searchModuleTitle\">1 Result</h1>\n",
      "4122\n",
      "<h1 id=\"searchModuleTitle\">1 Result</h1>\n",
      "4123\n",
      "<h1 id=\"searchModuleTitle\">1 Result</h1>\n",
      "4124\n",
      "<h1 id=\"searchModuleTitle\">1 Result</h1>\n",
      "4125\n",
      "<h1 id=\"searchModuleTitle\">1 Result</h1>\n",
      "4126\n",
      "<h1 id=\"searchModuleTitle\">1 Result</h1>\n",
      "4127\n",
      "<h1 id=\"searchModuleTitle\">1 Result</h1>\n",
      "4128\n",
      "<h1 id=\"searchModuleTitle\">1 Result</h1>\n",
      "4129\n",
      "<h1 id=\"searchModuleTitle\">1 Result</h1>\n",
      "4130\n",
      "<h1 id=\"searchModuleTitle\">1 Result</h1>\n",
      "4131\n",
      "<h1 id=\"searchModuleTitle\">10 Results</h1>\n",
      "4132\n",
      "<h1 id=\"searchModuleTitle\">9 Results</h1>\n",
      "4133\n",
      "<h1 id=\"searchModuleTitle\">1 Result</h1>\n",
      "4134\n",
      "<h1 id=\"searchModuleTitle\">1 Result</h1>\n",
      "4135\n",
      "<h1 id=\"searchModuleTitle\">2 Results</h1>\n",
      "4136\n",
      "<h1 id=\"searchModuleTitle\">5 Results</h1>\n",
      "4137\n",
      "<h1 id=\"searchModuleTitle\">1 Result</h1>\n",
      "4138\n",
      "<h1 id=\"searchModuleTitle\">32 Results</h1>\n",
      "4139\n",
      "<h1 id=\"searchModuleTitle\">1 Result</h1>\n",
      "4140\n",
      "<h1 id=\"searchModuleTitle\">1 Result</h1>\n",
      "4141\n",
      "<h1 id=\"searchModuleTitle\">8 Results</h1>\n",
      "4142\n",
      "<h1 id=\"searchModuleTitle\">184 Results</h1>\n",
      "4143\n",
      "<h1 id=\"searchModuleTitle\">1 Result</h1>\n",
      "4144\n",
      "<h1 id=\"searchModuleTitle\">1 Result</h1>\n",
      "4145\n",
      "<h1 id=\"searchModuleTitle\">185 Results</h1>\n",
      "4146\n",
      "<h1 id=\"searchModuleTitle\">1 Result</h1>\n",
      "4147\n",
      "<h1 id=\"searchModuleTitle\">2 Results</h1>\n",
      "4148\n",
      "<h1 id=\"searchModuleTitle\">1 Result</h1>\n",
      "4149\n",
      "<h1 id=\"searchModuleTitle\">1 Result</h1>\n",
      "4150\n",
      "<h1 id=\"searchModuleTitle\">1 Result</h1>\n",
      "4151\n",
      "<h1 id=\"searchModuleTitle\">1 Result</h1>\n",
      "4152\n",
      "<h1 id=\"searchModuleTitle\">1 Result</h1>\n",
      "4153\n",
      "<h1 id=\"searchModuleTitle\">1 Result</h1>\n",
      "4154\n",
      "<h1 id=\"searchModuleTitle\">5 Results</h1>\n",
      "4155\n",
      "<h1 id=\"searchModuleTitle\">2 Results</h1>\n",
      "4156\n",
      "<h1 id=\"searchModuleTitle\">1 Result</h1>\n",
      "4157\n",
      "<h1 id=\"searchModuleTitle\">1 Result</h1>\n",
      "4158\n",
      "<h1 id=\"searchModuleTitle\">36 Results</h1>\n",
      "4159\n",
      "<h1 id=\"searchModuleTitle\">1 Result</h1>\n",
      "4160\n",
      "<h1 id=\"searchModuleTitle\">1 Result</h1>\n",
      "4161\n",
      "<h1 id=\"searchModuleTitle\">1 Result</h1>\n",
      "4162\n",
      "<h1 id=\"searchModuleTitle\">1 Result</h1>\n",
      "4163\n",
      "<h1 id=\"searchModuleTitle\">2 Results</h1>\n",
      "4164\n",
      "<h1 id=\"searchModuleTitle\">1 Result</h1>\n",
      "4165\n",
      "<h1 id=\"searchModuleTitle\">1 Result</h1>\n",
      "4166\n",
      "<h1 id=\"searchModuleTitle\">8 Results</h1>\n",
      "4167\n",
      "<h1 id=\"searchModuleTitle\">1 Result</h1>\n",
      "4168\n",
      "<h1 id=\"searchModuleTitle\">2 Results</h1>\n",
      "4169\n",
      "<h1 id=\"searchModuleTitle\">1 Result</h1>\n",
      "4170\n",
      "<h1 id=\"searchModuleTitle\">3 Results</h1>\n",
      "4171\n",
      "<h1 id=\"searchModuleTitle\">1 Result</h1>\n",
      "4172\n",
      "<h1 id=\"searchModuleTitle\">2 Results</h1>\n",
      "4173\n",
      "<h1 id=\"searchModuleTitle\">1 Result</h1>\n",
      "4174\n",
      "<h1 id=\"searchModuleTitle\">2 Results</h1>\n",
      "4175\n",
      "<h1 id=\"searchModuleTitle\">1 Result</h1>\n",
      "4176\n",
      "<h1 id=\"searchModuleTitle\">8 Results</h1>\n",
      "4177\n"
     ]
    },
    {
     "name": "stdout",
     "output_type": "stream",
     "text": [
      "<h1 id=\"searchModuleTitle\">1 Result</h1>\n",
      "4178\n",
      "<h1 id=\"searchModuleTitle\">1 Result</h1>\n",
      "4179\n",
      "<h1 id=\"searchModuleTitle\">6 Results</h1>\n",
      "4180\n",
      "<h1 id=\"searchModuleTitle\">4 Results</h1>\n",
      "4181\n",
      "<h1 id=\"searchModuleTitle\">6 Results</h1>\n",
      "4182\n",
      "<h1 id=\"searchModuleTitle\">1 Result</h1>\n",
      "4183\n",
      "<h1 id=\"searchModuleTitle\">1 Result</h1>\n",
      "4184\n",
      "<h1 id=\"searchModuleTitle\">1 Result</h1>\n",
      "4185\n",
      "<h1 id=\"searchModuleTitle\">1 Result</h1>\n",
      "4186\n",
      "<h1 id=\"searchModuleTitle\">9 Results</h1>\n",
      "4187\n",
      "<h1 id=\"searchModuleTitle\">1 Result</h1>\n",
      "4188\n",
      "<h1 id=\"searchModuleTitle\">1 Result</h1>\n",
      "4189\n",
      "<h2 id=\"searchModuleTitle\">No matches.</h2>\n",
      "4190\n",
      "<h1 id=\"searchModuleTitle\">1 Result</h1>\n",
      "4191\n",
      "<h1 id=\"searchModuleTitle\">1 Result</h1>\n",
      "4192\n",
      "<h1 id=\"searchModuleTitle\">2 Results</h1>\n",
      "4193\n",
      "<h1 id=\"searchModuleTitle\">1 Result</h1>\n",
      "4194\n",
      "<h1 id=\"searchModuleTitle\">9 Results</h1>\n",
      "4195\n",
      "<h1 id=\"searchModuleTitle\">2 Results</h1>\n",
      "4196\n",
      "<h1 id=\"searchModuleTitle\">1 Result</h1>\n",
      "4197\n",
      "<h1 id=\"searchModuleTitle\">5 Results</h1>\n",
      "4198\n",
      "<h1 id=\"searchModuleTitle\">1 Result</h1>\n",
      "4199\n",
      "<h1 id=\"searchModuleTitle\">6 Results</h1>\n",
      "4200\n",
      "<h1 id=\"searchModuleTitle\">1 Result</h1>\n",
      "4201\n",
      "<h1 id=\"searchModuleTitle\">1 Result</h1>\n",
      "4202\n",
      "<h1 id=\"searchModuleTitle\">3 Results</h1>\n",
      "4203\n",
      "<h1 id=\"searchModuleTitle\">1 Result</h1>\n",
      "4204\n",
      "<h1 id=\"searchModuleTitle\">1 Result</h1>\n",
      "4205\n",
      "<h1 id=\"searchModuleTitle\">1 Result</h1>\n",
      "4206\n",
      "<h1 id=\"searchModuleTitle\">2 Results</h1>\n",
      "4207\n",
      "<h1 id=\"searchModuleTitle\">1 Result</h1>\n",
      "4208\n",
      "<h1 id=\"searchModuleTitle\">7 Results</h1>\n",
      "4209\n",
      "<h1 id=\"searchModuleTitle\">1 Result</h1>\n",
      "4210\n",
      "<h1 id=\"searchModuleTitle\">1 Result</h1>\n",
      "4211\n",
      "<h1 id=\"searchModuleTitle\">1 Result</h1>\n",
      "4212\n",
      "<h1 id=\"searchModuleTitle\">6 Results</h1>\n",
      "4213\n",
      "<h1 id=\"searchModuleTitle\">10 Results</h1>\n",
      "4214\n",
      "<h1 id=\"searchModuleTitle\">15 Results</h1>\n",
      "4215\n",
      "<h1 id=\"searchModuleTitle\">4 Results</h1>\n",
      "4216\n"
     ]
    }
   ],
   "source": [
    "for r in test[4000:]:\n",
    "    try:\n",
    "        r_name = test_r_name[r]\n",
    "        \n",
    "        submit = wait.until(\n",
    "            EC.element_to_be_clickable((By.CSS_SELECTOR, 'body > div.fd-site > div.fd-site-wrapper > section.gk-header-wrap.Food\\.com > header > div > div > div > nav:nth-child(2) > ul > li.v-nav-toggle.has-icon.gk-nav__search > a > i'))\n",
    "        )\n",
    "        submit.click()\n",
    "        \n",
    "        # input the search recipe\n",
    "        # 找text box需要通过id去找 注意！！！\n",
    "        inputElement = driver.find_element_by_id(\"search-input\")\n",
    "        inputElement.send_keys(r_name)\n",
    "        \n",
    "        # hit enter after inputting the text\n",
    "        inputElement.send_keys(Keys.RETURN)\n",
    "        \n",
    "        wait.until(\n",
    "        EC.presence_of_element_located((By.CSS_SELECTOR, '#searchModuleTitle'))\n",
    "        )\n",
    "        \n",
    "        # 这个地方注意从原来的implict wait换成这个time sleep是因为\n",
    "        # implicit wait是如果找不到对应的element一直等到 多久throw exception，但是\n",
    "        # 网页一旦加载 那个信息就会出来，只是不包含我们想要的有效字段，所以我们怎么判断有没有我们要的\n",
    "        # 关键字都没用，因为间隔时间太短了太短了，不足以让我们要的字段上传。\n",
    "        time.sleep(1)\n",
    "        \n",
    "        e = driver.find_element_by_css_selector('#searchModuleTitle')\n",
    "        \n",
    "        # get the entire thing of the corresponding div class\n",
    "        temp = e.get_attribute('outerHTML')\n",
    "        print(temp)\n",
    "        \n",
    "        if '1 Result' in temp:\n",
    "            one_result.append(r_name)\n",
    "        else:\n",
    "            more_than_one_result.append(r_name)\n",
    "        executed += 1\n",
    "        print(executed)\n",
    "        \n",
    "    except:\n",
    "        save_for_later.append(r_name)\n",
    "        executed += 1\n",
    "        print(executed)"
   ]
  },
  {
   "cell_type": "code",
   "execution_count": 217,
   "id": "2821fda8",
   "metadata": {
    "scrolled": true
   },
   "outputs": [
    {
     "data": {
      "text/plain": [
       "2747"
      ]
     },
     "execution_count": 217,
     "metadata": {},
     "output_type": "execute_result"
    }
   ],
   "source": [
    "len(one_result)"
   ]
  },
  {
   "cell_type": "code",
   "execution_count": 218,
   "id": "195757e5",
   "metadata": {
    "scrolled": false
   },
   "outputs": [
    {
     "name": "stdout",
     "output_type": "stream",
     "text": [
      "Stored 'one_result' (list)\n"
     ]
    }
   ],
   "source": [
    "%store one_result"
   ]
  },
  {
   "cell_type": "code",
   "execution_count": 207,
   "id": "1c49a3e3",
   "metadata": {},
   "outputs": [],
   "source": [
    "import csv"
   ]
  },
  {
   "cell_type": "code",
   "execution_count": 219,
   "id": "09bb85bc",
   "metadata": {},
   "outputs": [],
   "source": [
    "with open('one_result_4216.csv', 'w') as f:\n",
    "    write = csv.writer(f)\n",
    "    write.writerows(one_result)"
   ]
  },
  {
   "cell_type": "code",
   "execution_count": 221,
   "id": "b922104b",
   "metadata": {},
   "outputs": [
    {
     "data": {
      "text/plain": [
       "1459"
      ]
     },
     "execution_count": 221,
     "metadata": {},
     "output_type": "execute_result"
    }
   ],
   "source": [
    "len(more_than_one_result)"
   ]
  },
  {
   "cell_type": "code",
   "execution_count": 377,
   "id": "6aa97baa",
   "metadata": {
    "scrolled": true
   },
   "outputs": [
    {
     "data": {
      "text/plain": [
       "'asiago cornmeal cookies'"
      ]
     },
     "execution_count": 377,
     "metadata": {},
     "output_type": "execute_result"
    }
   ],
   "source": [
    "more_than_one_result[50]"
   ]
  },
  {
   "cell_type": "code",
   "execution_count": null,
   "id": "d7726c4a",
   "metadata": {},
   "outputs": [],
   "source": []
  },
  {
   "cell_type": "code",
   "execution_count": 379,
   "id": "92c8d9de",
   "metadata": {
    "scrolled": true
   },
   "outputs": [
    {
     "data": {
      "text/plain": [
       "'84386281'"
      ]
     },
     "execution_count": 379,
     "metadata": {},
     "output_type": "execute_result"
    }
   ],
   "source": [
    "test_recipes_name_id['asiago cornmeal cookies']"
   ]
  },
  {
   "cell_type": "code",
   "execution_count": 383,
   "id": "69001ee7",
   "metadata": {},
   "outputs": [],
   "source": [
    "temp_change = []\n",
    "for x in more_than_one_result:\n",
    "    if 'berry' in x or 'rose' in x:\n",
    "        temp_change.append(x)"
   ]
  },
  {
   "cell_type": "code",
   "execution_count": 384,
   "id": "813bcad3",
   "metadata": {},
   "outputs": [
    {
     "data": {
      "text/plain": [
       "['blueberry bran muffins',\n",
       " 'roasted rosemary potatoes with garlic',\n",
       " 'honey lemonade with raspberry cubes',\n",
       " 'blackberry sorbet',\n",
       " 'cranberry pear chutney',\n",
       " 'blueberry corn muffins',\n",
       " 'strawberry thyme butter',\n",
       " 'fluffy strawberry salad',\n",
       " 'chocolate strawberry pie',\n",
       " 'rosemary lemon cake',\n",
       " 'flank steak with bourbon rosemary marinade',\n",
       " 'blueberry oat bars',\n",
       " 'raspberry champagne cocktail',\n",
       " 'blueberry mojito',\n",
       " 'strawberry cake',\n",
       " 'streusel blueberry coffee cake',\n",
       " 'asiago apple and rosemary bread',\n",
       " 'cranberry salad dressing',\n",
       " 'grilled salmon with quick blueberry pan sauce',\n",
       " 'lemon blueberry pound cake',\n",
       " 'strawberry daiquiri jam',\n",
       " 'blueberry margarita',\n",
       " 'strawberry crisps',\n",
       " 'banana blueberry smoothie',\n",
       " 'sweet potato salad with rosemary honey vinaigrette',\n",
       " 'overnight blueberry coffee cake',\n",
       " 'strawberry cordial',\n",
       " 'berry orange smoothie',\n",
       " 'berry french toast',\n",
       " 'spiced blueberry muffins',\n",
       " 'dutch baby with cranberry orange syrup',\n",
       " 'lemon berry tart',\n",
       " 'strawberry almond bread',\n",
       " 'raspberry icebox dessert',\n",
       " 'best vegan blueberry muffins ever',\n",
       " 'fresh peach cobbler or berry cobbler',\n",
       " 'white bean and rosemary dip recipe',\n",
       " 'perfect strawberry milkshake',\n",
       " 'easiest apple roses',\n",
       " 'spiced cranberry sauce',\n",
       " 'red white and blueberry pie',\n",
       " 'layered strawberry and cream dessert easy',\n",
       " 'grilled chicken salad with raspberry vinaigrette',\n",
       " 'berry berry cool pie',\n",
       " 'cranberry lemon squares',\n",
       " 'raspberry breeze',\n",
       " 'roast pork with rosemary and garlic',\n",
       " 'rosemary roasted salmon',\n",
       " 'roasted strawberry meringues',\n",
       " 'strawberry flan',\n",
       " 'easy blueberry dessert',\n",
       " 'banana mango raspberry smoothie',\n",
       " 'the strawberry smoothie',\n",
       " 'strawberry ice cream soda',\n",
       " 'sugar free strawberry pie',\n",
       " 'frozen cranberry margaritas',\n",
       " 'rosemary and garlic monkey bread',\n",
       " 'cranberry orange biscotti',\n",
       " 'focaccia with garlic rosemary',\n",
       " 'potatoes with leeks and rosemary',\n",
       " 'double blueberry muffins',\n",
       " 'raspberry cheesecake parfait']"
      ]
     },
     "execution_count": 384,
     "metadata": {},
     "output_type": "execute_result"
    }
   ],
   "source": [
    "temp_change"
   ]
  },
  {
   "cell_type": "code",
   "execution_count": 265,
   "id": "aa624d8a",
   "metadata": {},
   "outputs": [],
   "source": [
    "test_recipes_name_ingre = dict()\n",
    "for r in test_recipes:\n",
    "    test_recipes_name_ingre[r['name']] = r['ingredients']"
   ]
  },
  {
   "cell_type": "code",
   "execution_count": 491,
   "id": "676d3ae4",
   "metadata": {
    "scrolled": false
   },
   "outputs": [
    {
     "data": {
      "text/plain": [
       "['oreo cookies',\n",
       " 'white creme de cacao',\n",
       " 'half-and-half',\n",
       " 'vanilla ice cream',\n",
       " 'ice']"
      ]
     },
     "execution_count": 491,
     "metadata": {},
     "output_type": "execute_result"
    }
   ],
   "source": [
    "test_recipes_name_ingre['ice cream sandwich drink t g i f']"
   ]
  },
  {
   "cell_type": "code",
   "execution_count": 327,
   "id": "0a041eb3",
   "metadata": {},
   "outputs": [],
   "source": [
    "test_recipes_id_name = dict()\n",
    "for r in test_recipes:\n",
    "    test_recipes_id_name[r['recipe_id']] = r['name']"
   ]
  },
  {
   "cell_type": "code",
   "execution_count": 490,
   "id": "b72527a3",
   "metadata": {
    "scrolled": false
   },
   "outputs": [
    {
     "data": {
      "text/plain": [
       "'ice cream sandwich drink t g i f'"
      ]
     },
     "execution_count": 490,
     "metadata": {},
     "output_type": "execute_result"
    }
   ],
   "source": [
    "test_recipes_id_name['03362905']"
   ]
  },
  {
   "cell_type": "code",
   "execution_count": 332,
   "id": "4ded654a",
   "metadata": {},
   "outputs": [
    {
     "data": {
      "text/plain": [
       "495"
      ]
     },
     "execution_count": 332,
     "metadata": {},
     "output_type": "execute_result"
    }
   ],
   "source": [
    "8*60+15"
   ]
  },
  {
   "cell_type": "code",
   "execution_count": null,
   "id": "f5657208",
   "metadata": {},
   "outputs": [],
   "source": []
  },
  {
   "cell_type": "code",
   "execution_count": 176,
   "id": "3ebf5fa7",
   "metadata": {
    "scrolled": true
   },
   "outputs": [
    {
     "name": "stderr",
     "output_type": "stream",
     "text": [
      "<ipython-input-176-3a037be138c5>:1: DeprecationWarning: find_element_by_* commands are deprecated. Please use find_element() instead\n",
      "  e = driver.find_element_by_css_selector('#searchModuleTitle')\n"
     ]
    }
   ],
   "source": [
    "e = driver.find_element_by_css_selector('#searchModuleTitle')\n",
    "        \n",
    "driver.implicitly_wait(10)\n",
    "# get the entire thing of the corresponding div class\n",
    "temp = e.get_attribute('outerHTML')"
   ]
  },
  {
   "cell_type": "code",
   "execution_count": 177,
   "id": "3f8aebc1",
   "metadata": {},
   "outputs": [
    {
     "data": {
      "text/plain": [
       "'<h1 id=\"searchModuleTitle\">5 Results</h1>'"
      ]
     },
     "execution_count": 177,
     "metadata": {},
     "output_type": "execute_result"
    }
   ],
   "source": [
    "temp"
   ]
  },
  {
   "cell_type": "code",
   "execution_count": 168,
   "id": "026e4aa6",
   "metadata": {
    "scrolled": true
   },
   "outputs": [
    {
     "data": {
      "text/plain": [
       "['rhubarb pie ii',\n",
       " 'ww 6 points mediterranean roast chicken',\n",
       " 'taco pie in pie crust',\n",
       " 'blueberry bran muffins',\n",
       " 'southern chicken parmegian',\n",
       " 'chocolate intemperance',\n",
       " 'apple brandy hot toddy',\n",
       " 'holiday ambrosia fruit fluff',\n",
       " 'roasted rosemary potatoes with garlic']"
      ]
     },
     "execution_count": 168,
     "metadata": {},
     "output_type": "execute_result"
    }
   ],
   "source": [
    "more_than_one_result"
   ]
  },
  {
   "cell_type": "code",
   "execution_count": 169,
   "id": "a0a91180",
   "metadata": {},
   "outputs": [
    {
     "data": {
      "text/plain": [
       "['sweet salty grilled cheese sandwich']"
      ]
     },
     "execution_count": 169,
     "metadata": {},
     "output_type": "execute_result"
    }
   ],
   "source": [
    "one_result"
   ]
  },
  {
   "cell_type": "code",
   "execution_count": null,
   "id": "89a58f5e",
   "metadata": {},
   "outputs": [],
   "source": []
  },
  {
   "cell_type": "code",
   "execution_count": 6,
   "id": "b5ea0dd4",
   "metadata": {},
   "outputs": [],
   "source": [
    "%store -r minutes_revised"
   ]
  },
  {
   "cell_type": "code",
   "execution_count": 25,
   "id": "bd4a7f34",
   "metadata": {},
   "outputs": [
    {
     "data": {
      "text/plain": [
       "4216"
      ]
     },
     "execution_count": 25,
     "metadata": {},
     "output_type": "execute_result"
    }
   ],
   "source": [
    "len(test)"
   ]
  },
  {
   "cell_type": "code",
   "execution_count": 80,
   "id": "8a9cf655",
   "metadata": {},
   "outputs": [
    {
     "data": {
      "text/plain": [
       "[]"
      ]
     },
     "execution_count": 80,
     "metadata": {},
     "output_type": "execute_result"
    }
   ],
   "source": []
  },
  {
   "cell_type": "code",
   "execution_count": null,
   "id": "7fb29995",
   "metadata": {},
   "outputs": [],
   "source": []
  },
  {
   "cell_type": "code",
   "execution_count": null,
   "id": "cda34ce1",
   "metadata": {},
   "outputs": [],
   "source": []
  },
  {
   "cell_type": "code",
   "execution_count": null,
   "id": "19d48ccb",
   "metadata": {},
   "outputs": [],
   "source": []
  },
  {
   "cell_type": "code",
   "execution_count": null,
   "id": "88e11369",
   "metadata": {},
   "outputs": [],
   "source": []
  },
  {
   "cell_type": "code",
   "execution_count": null,
   "id": "3e7b1933",
   "metadata": {},
   "outputs": [],
   "source": []
  },
  {
   "cell_type": "code",
   "execution_count": null,
   "id": "0c45c511",
   "metadata": {},
   "outputs": [],
   "source": []
  }
 ],
 "metadata": {
  "kernelspec": {
   "display_name": "Python 3",
   "language": "python",
   "name": "python3"
  },
  "language_info": {
   "codemirror_mode": {
    "name": "ipython",
    "version": 3
   },
   "file_extension": ".py",
   "mimetype": "text/x-python",
   "name": "python",
   "nbconvert_exporter": "python",
   "pygments_lexer": "ipython3",
   "version": "3.8.8"
  }
 },
 "nbformat": 4,
 "nbformat_minor": 5
}
