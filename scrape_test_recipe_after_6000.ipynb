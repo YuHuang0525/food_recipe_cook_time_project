{
 "cells": [
  {
   "cell_type": "code",
   "execution_count": 7,
   "id": "fbd0398d",
   "metadata": {},
   "outputs": [],
   "source": [
    "from selenium import webdriver\n",
    "from webdriver_manager.chrome import ChromeDriverManager\n",
    "from selenium.webdriver.common.by import By\n",
    "from selenium.webdriver.support.ui import WebDriverWait\n",
    "from selenium.webdriver.support import expected_conditions as EC\n",
    "from selenium.common.exceptions import TimeoutException"
   ]
  },
  {
   "cell_type": "code",
   "execution_count": 8,
   "id": "792d2d56",
   "metadata": {},
   "outputs": [],
   "source": [
    "from selenium.webdriver.remote.webelement import WebElement"
   ]
  },
  {
   "cell_type": "code",
   "execution_count": 9,
   "id": "af9bd243",
   "metadata": {},
   "outputs": [],
   "source": [
    "from selenium.webdriver.common.keys import Keys"
   ]
  },
  {
   "cell_type": "code",
   "execution_count": 10,
   "id": "1286f6b2",
   "metadata": {},
   "outputs": [],
   "source": [
    "import re"
   ]
  },
  {
   "cell_type": "code",
   "execution_count": 89,
   "id": "ef18c225",
   "metadata": {
    "scrolled": true
   },
   "outputs": [
    {
     "name": "stderr",
     "output_type": "stream",
     "text": [
      "[WDM] - \n",
      "\n",
      "[WDM] - ====== WebDriver manager ======\n",
      "[WDM] - Current google-chrome version is 95.0.4638\n",
      "[WDM] - Get LATEST driver version for 95.0.4638\n",
      "[WDM] - Driver [C:\\Users\\YH\\.wdm\\drivers\\chromedriver\\win32\\95.0.4638.69\\chromedriver.exe] found in cache\n",
      "<ipython-input-89-e66cfd37675b>:1: DeprecationWarning: executable_path has been deprecated, please pass in a Service object\n",
      "  driver1 = webdriver.Chrome(ChromeDriverManager().install())\n"
     ]
    }
   ],
   "source": [
    "driver1 = webdriver.Chrome(ChromeDriverManager().install())\n",
    "wait1 = WebDriverWait(driver1, 30)"
   ]
  },
  {
   "cell_type": "code",
   "execution_count": 12,
   "id": "d26c2577",
   "metadata": {},
   "outputs": [],
   "source": [
    "import gzip"
   ]
  },
  {
   "cell_type": "code",
   "execution_count": 13,
   "id": "7813efb7",
   "metadata": {},
   "outputs": [],
   "source": [
    "def readGz(path):\n",
    "    for l in gzip.open(path, 'rt',encoding='utf-8'):\n",
    "        yield eval(l)"
   ]
  },
  {
   "cell_type": "code",
   "execution_count": 14,
   "id": "3f6b6dc9",
   "metadata": {},
   "outputs": [],
   "source": [
    "test_recipes = []\n",
    "for d in readGz(\"testRecipes.json.gz\"):\n",
    "    test_recipes.append(d)"
   ]
  },
  {
   "cell_type": "code",
   "execution_count": 15,
   "id": "7e3f51e4",
   "metadata": {},
   "outputs": [],
   "source": [
    "test_recipes_name = []\n",
    "for x in test_recipes:\n",
    "    test_recipes_name.append(x['name'])"
   ]
  },
  {
   "cell_type": "code",
   "execution_count": 16,
   "id": "8d82edb6",
   "metadata": {},
   "outputs": [],
   "source": [
    "test_recipes_name_id = dict()\n",
    "for r in test_recipes:\n",
    "    test_recipes_name_id[r['name']] = r['recipe_id']"
   ]
  },
  {
   "cell_type": "code",
   "execution_count": 18,
   "id": "a3bf9c82",
   "metadata": {},
   "outputs": [],
   "source": [
    "# 记录名字搜出来是oops的recipe\n",
    "ambiguous_recipe = []"
   ]
  },
  {
   "cell_type": "code",
   "execution_count": 34,
   "id": "189780e3",
   "metadata": {},
   "outputs": [],
   "source": [
    "minutes_6000 = {}"
   ]
  },
  {
   "cell_type": "code",
   "execution_count": null,
   "id": "74d10ffa",
   "metadata": {},
   "outputs": [],
   "source": []
  },
  {
   "cell_type": "code",
   "execution_count": null,
   "id": "35ac054a",
   "metadata": {},
   "outputs": [],
   "source": []
  },
  {
   "cell_type": "code",
   "execution_count": 28,
   "id": "b2bc5dd8",
   "metadata": {},
   "outputs": [],
   "source": [
    "def search(r):\n",
    "    submit = wait1.until(\n",
    "            EC.element_to_be_clickable((By.CSS_SELECTOR, 'body > div.fd-site > div.fd-site-wrapper > section.gk-header-wrap.Food\\.com > header > div > div > div > nav:nth-child(2) > ul > li.v-nav-toggle.has-icon.gk-nav__search > a > i'))\n",
    "        )\n",
    "    submit.click()\n",
    "\n",
    "    # input the search recipe\n",
    "    # 找text box需要通过id去找 注意！！！\n",
    "    inputElement = driver1.find_element_by_id(\"search-input\")\n",
    "    inputElement.send_keys(r)\n",
    "\n",
    "    # hit enter after inputting the text\n",
    "    inputElement.send_keys(Keys.RETURN)"
   ]
  },
  {
   "cell_type": "code",
   "execution_count": 29,
   "id": "41679dc6",
   "metadata": {
    "scrolled": false
   },
   "outputs": [
    {
     "name": "stderr",
     "output_type": "stream",
     "text": [
      "<ipython-input-28-04e9c0791751>:9: DeprecationWarning: find_element_by_* commands are deprecated. Please use find_element() instead\n",
      "  inputElement = driver1.find_element_by_id(\"search-input\")\n"
     ]
    }
   ],
   "source": [
    "search(test_recipes_name[6000])"
   ]
  },
  {
   "cell_type": "code",
   "execution_count": 45,
   "id": "41f0dde9",
   "metadata": {},
   "outputs": [],
   "source": [
    "def get_minutes(temp_r_name):\n",
    "    try :\n",
    "        driver1.implicitly_wait(1)\n",
    "        driver1.find_element_by_css_selector('#gk-menu-search > div.fd-menu-inner > div.search-module-results.on > header > div > h3')\n",
    "        ambiguous_recipe.append(temp_r_name)\n",
    "    except:\n",
    "        # make sure the driver wait for the whole page to be loaded\n",
    "        driver1.implicitly_wait(2)\n",
    "        # 注意下面这一行代码，如果没有上面那一行代码去设置等待时间，可能会报错，因为提取的太快了，需要等待全部load\n",
    "        e = driver1.find_element_by_css_selector('#gk-menu-search > div.fd-menu-inner > div.search-module-results.on > div > div > div > div > div.tile-content > div > div > div.meta-data > div.cook-time')\n",
    "        # get the entire thing of the corresponding div class\n",
    "        temp = e.get_attribute('outerHTML')\n",
    "        # using regular expression to find the text in between\n",
    "        time = re.findall('[0-9]+[\\s\\.]*[0-9]*\\s+[hm]*', temp)[0].strip()\n",
    "        temp_r_id = test_recipes_name_id[temp_r_name]\n",
    "        minutes[temp_r_id] = time"
   ]
  },
  {
   "cell_type": "code",
   "execution_count": 55,
   "id": "ca3845df",
   "metadata": {},
   "outputs": [],
   "source": [
    "import time"
   ]
  },
  {
   "cell_type": "code",
   "execution_count": 58,
   "id": "c4c81c2d",
   "metadata": {},
   "outputs": [],
   "source": [
    "ambiguous_recipe = []"
   ]
  },
  {
   "cell_type": "code",
   "execution_count": 59,
   "id": "5c6d4561",
   "metadata": {},
   "outputs": [],
   "source": [
    "executed = 0"
   ]
  },
  {
   "cell_type": "code",
   "execution_count": 94,
   "id": "e1e66682",
   "metadata": {
    "scrolled": true
   },
   "outputs": [
    {
     "name": "stderr",
     "output_type": "stream",
     "text": [
      "<ipython-input-28-04e9c0791751>:9: DeprecationWarning: find_element_by_* commands are deprecated. Please use find_element() instead\n",
      "  inputElement = driver1.find_element_by_id(\"search-input\")\n",
      "<ipython-input-94-bfb46a210d44>:12: DeprecationWarning: find_element_by_* commands are deprecated. Please use find_element() instead\n",
      "  e = driver1.find_element_by_css_selector('#searchModuleTitle')\n",
      "<ipython-input-94-bfb46a210d44>:20: DeprecationWarning: find_element_by_* commands are deprecated. Please use find_element() instead\n",
      "  e = driver1.find_element_by_css_selector('#gk-menu-search > div.fd-menu-inner > div.search-module-results.on > div > div > div > div > div.tile-content > div > div > div.meta-data > div.cook-time')\n"
     ]
    },
    {
     "name": "stdout",
     "output_type": "stream",
     "text": [
      "1182\n",
      "1183\n",
      "1184\n",
      "1185\n",
      "1186\n",
      "1187\n",
      "1188\n",
      "1189\n",
      "1190\n",
      "1191\n",
      "1192\n",
      "1193\n",
      "1194\n",
      "1195\n",
      "1196\n",
      "1197\n",
      "1198\n",
      "1199\n",
      "1200\n",
      "1201\n",
      "1202\n",
      "1203\n",
      "1204\n",
      "1205\n",
      "1206\n",
      "1207\n",
      "1208\n",
      "1209\n",
      "1210\n",
      "1211\n",
      "1212\n",
      "1213\n",
      "1214\n",
      "1215\n",
      "1216\n",
      "1217\n",
      "1218\n",
      "1219\n",
      "1220\n",
      "1221\n",
      "1222\n",
      "1223\n",
      "1224\n",
      "1225\n",
      "1226\n",
      "1227\n",
      "1228\n",
      "1229\n",
      "1230\n",
      "1231\n",
      "1232\n",
      "1233\n",
      "1234\n",
      "1235\n",
      "1236\n",
      "1237\n",
      "1238\n",
      "1239\n",
      "1240\n",
      "1241\n",
      "1242\n",
      "1243\n",
      "1244\n",
      "1245\n",
      "1246\n",
      "1247\n",
      "1248\n",
      "1249\n",
      "1250\n",
      "1251\n",
      "1252\n",
      "1253\n",
      "1254\n",
      "1255\n",
      "1256\n",
      "1257\n",
      "1258\n",
      "1259\n",
      "1260\n",
      "1261\n",
      "1262\n",
      "1263\n",
      "1264\n",
      "1265\n",
      "1266\n"
     ]
    }
   ],
   "source": [
    "for r in test_recipes_name[7800:8000]:\n",
    "    try:\n",
    "        \n",
    "        search(r)\n",
    "        \n",
    "        # 这个地方注意从原来的implict wait换成这个time sleep是因为\n",
    "        # implicit wait是如果找不到对应的element一直等到 多久throw exception，但是\n",
    "        # 网页一旦加载 那个信息就会出来，只是不包含我们想要的有效字段，所以我们怎么判断有没有我们要的\n",
    "        # 关键字都没用，因为间隔时间太短太短了，不足以让我们要的字段上传。\n",
    "        time.sleep(1.5)\n",
    "        \n",
    "        e = driver1.find_element_by_css_selector('#searchModuleTitle')\n",
    "        \n",
    "        # get the entire thing of the corresponding div class\n",
    "        temp = e.get_attribute('outerHTML')\n",
    "        \n",
    "        if '1 Result' in temp:\n",
    "            driver1.implicitly_wait(2)\n",
    "            \n",
    "            e = driver1.find_element_by_css_selector('#gk-menu-search > div.fd-menu-inner > div.search-module-results.on > div > div > div > div > div.tile-content > div > div > div.meta-data > div.cook-time')\n",
    "            # get the entire thing of the corresponding div class\n",
    "            temp = e.get_attribute('outerHTML')\n",
    "            # using regular expression to find the text in between\n",
    "            t = re.findall('[0-9]+[\\s\\.]*[0-9]*\\s+[hm]*', temp)[0].strip()\n",
    "            temp_r_id = test_recipes_name_id[r]\n",
    "            minutes_6000[temp_r_id] = t\n",
    "        else:\n",
    "            continue\n",
    "            \n",
    "        executed += 1\n",
    "        print(executed)\n",
    "        \n",
    "    except:\n",
    "        # find oops recipe\n",
    "        ambiguous_recipe.append(r)\n",
    "\n",
    "        executed += 1\n",
    "        print(executed)\n",
    "            "
   ]
  },
  {
   "cell_type": "code",
   "execution_count": 95,
   "id": "22e76b50",
   "metadata": {
    "scrolled": true
   },
   "outputs": [
    {
     "data": {
      "text/plain": [
       "947"
      ]
     },
     "execution_count": 95,
     "metadata": {},
     "output_type": "execute_result"
    }
   ],
   "source": [
    "len(minutes_6000.keys())"
   ]
  },
  {
   "cell_type": "code",
   "execution_count": 96,
   "id": "d65ad6d3",
   "metadata": {
    "scrolled": true
   },
   "outputs": [
    {
     "name": "stdout",
     "output_type": "stream",
     "text": [
      "Stored 'minutes_6000' (dict)\n"
     ]
    }
   ],
   "source": [
    "%store minutes_6000"
   ]
  },
  {
   "cell_type": "code",
   "execution_count": 63,
   "id": "45ecb13c",
   "metadata": {
    "scrolled": true
   },
   "outputs": [
    {
     "data": {
      "text/plain": [
       "[]"
      ]
     },
     "execution_count": 63,
     "metadata": {},
     "output_type": "execute_result"
    }
   ],
   "source": [
    "ambiguous_recipe"
   ]
  },
  {
   "cell_type": "code",
   "execution_count": 100,
   "id": "4aadb5b7",
   "metadata": {},
   "outputs": [],
   "source": [
    "minutes_6000_revised = dict()\n",
    "for x,y in minutes_6000.items():\n",
    "    temp = y.strip().split(' ')\n",
    "    if 'h' in temp:\n",
    "        minutes_6000_revised[x] = float(temp[0]) * 60\n",
    "    elif 'm' in temp:\n",
    "        minutes_6000_revised[x] = float(temp[0])\n",
    "    else:\n",
    "        print(x)"
   ]
  },
  {
   "cell_type": "code",
   "execution_count": 102,
   "id": "1ed4e63b",
   "metadata": {},
   "outputs": [
    {
     "name": "stdout",
     "output_type": "stream",
     "text": [
      "Stored 'minutes_6000_revised' (dict)\n"
     ]
    }
   ],
   "source": [
    "%store minutes_6000_revised"
   ]
  },
  {
   "cell_type": "code",
   "execution_count": 103,
   "id": "747992a6",
   "metadata": {},
   "outputs": [],
   "source": [
    "minutes_6000_to_csv_list = []\n",
    "for x, y in minutes_6000_revised.items():\n",
    "    minutes_6000_to_csv_list.append([x,y])"
   ]
  },
  {
   "cell_type": "code",
   "execution_count": 105,
   "id": "a991df1b",
   "metadata": {},
   "outputs": [],
   "source": [
    "import csv"
   ]
  },
  {
   "cell_type": "code",
   "execution_count": 110,
   "id": "82defe49",
   "metadata": {},
   "outputs": [],
   "source": [
    "with open('actual_minutes_6000.csv', 'w') as f:\n",
    "    write = csv.writer(f)\n",
    "    write.writerows(minutes_6000_to_csv_list)"
   ]
  },
  {
   "cell_type": "code",
   "execution_count": null,
   "id": "5b506b6c",
   "metadata": {},
   "outputs": [],
   "source": []
  },
  {
   "cell_type": "code",
   "execution_count": null,
   "id": "7689d263",
   "metadata": {},
   "outputs": [],
   "source": []
  },
  {
   "cell_type": "code",
   "execution_count": null,
   "id": "c18c910e",
   "metadata": {},
   "outputs": [],
   "source": []
  },
  {
   "cell_type": "code",
   "execution_count": null,
   "id": "0113933a",
   "metadata": {},
   "outputs": [],
   "source": []
  },
  {
   "cell_type": "code",
   "execution_count": null,
   "id": "a9ee317a",
   "metadata": {},
   "outputs": [],
   "source": []
  },
  {
   "cell_type": "code",
   "execution_count": null,
   "id": "9bae1ca6",
   "metadata": {},
   "outputs": [],
   "source": []
  }
 ],
 "metadata": {
  "kernelspec": {
   "display_name": "Python 3",
   "language": "python",
   "name": "python3"
  },
  "language_info": {
   "codemirror_mode": {
    "name": "ipython",
    "version": 3
   },
   "file_extension": ".py",
   "mimetype": "text/x-python",
   "name": "python",
   "nbconvert_exporter": "python",
   "pygments_lexer": "ipython3",
   "version": "3.8.8"
  }
 },
 "nbformat": 4,
 "nbformat_minor": 5
}
